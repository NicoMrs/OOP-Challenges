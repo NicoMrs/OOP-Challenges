{
 "cells": [
  {
   "cell_type": "markdown",
   "id": "110d2eec-c737-4e43-be71-9dda7d0d528f",
   "metadata": {},
   "source": [
    "## DataClasses\n",
    "Careful with dataclass usage. It can often be a sign of bad OOP. They are supposed to be used as simple data containers. They are useful because they avoid simple boilerplate code. But often they are used with complex complementing methods like in this example. Here regular classes might be more suited.  \n",
    "In general, they should be used as:\n",
    " - simple datacontainers\n",
    " - scaffholding while building programs. Indeed they avoid boilerplate code and can be later transformed to regular classes when becoming more complex\n",
    " - intermediate data representation when exporting to JSON file for example"
   ]
  },
  {
   "cell_type": "raw",
   "id": "50628138-28f4-4ddf-85c4-620c44055285",
   "metadata": {},
   "source": [
    "# Requirements:\n",
    "- Define 3 new types mimicking a financial markets equity portfolio hierarchy:\n",
    "    a. Stock\n",
    "        - has 4 attributes: ticker, price, dividend, dividend_frequency, e.g. MSFT, 360, 0.62, 4\n",
    "        - dividend defaults to 0, whereas dividend_frequency to 4, i.e. quarterly\n",
    "        - the type should expose annual_dividend as a calculated/managed attribute\n",
    "        - the type should be immutable\n",
    "    b. Position\n",
    "        - has 2 attributes: stock and shares, e.g. MSFT, 100\n",
    "        - compares with other instances of Position based on dollar value alone, e.g. a position of 100 shares of MSFT\n",
    "          should compare equal to a position of 100 shares of LMT, if both MSFT and LMT trade at the same price\n",
    "    c. Portfolio\n",
    "        - has 1 attribute: holdings, which is a list of positions, e.g. [Position(MSFT...), Position(LMT...), ...]\n",
    "        - exposes two managed attributes (i.e. dot access notation): value and portfolio_yield\n",
    "        - value is the total dollar value (shares * stock.price) of all positions in the portfolio\n",
    "        - portfolio_yield is simply total annual portfolio dividends divided by portfolio value\n",
    "- Try to define all of the above types as dataclasses, with applicable customization and overrides."
   ]
  },
  {
   "cell_type": "code",
   "execution_count": 2,
   "id": "d2c02c9b-e991-4c98-a588-657523359b50",
   "metadata": {},
   "outputs": [],
   "source": [
    "from dataclasses import dataclass"
   ]
  },
  {
   "cell_type": "code",
   "execution_count": 3,
   "id": "9a2aa266-d187-4ab2-b661-378857fe3a49",
   "metadata": {},
   "outputs": [],
   "source": [
    "# Remember type hinting does not affect runtime\n",
    "# It is used by IDLE or tools like linter to help debug while checking type\n",
    "\n",
    "@dataclass(frozen=True) # make it a immutable dataclass \n",
    "class Stock:\n",
    "    ticker : str # remember\n",
    "    price : float\n",
    "    dividend : float = 0\n",
    "    dividend_frequency : int = 4\n",
    "\n",
    "    @property # make it a managed attribute\n",
    "    def annual_dividend(self):\n",
    "        return self.dividend*self.dividend_frequency"
   ]
  },
  {
   "cell_type": "code",
   "execution_count": 4,
   "id": "b7cf55cc-e3c7-44c1-8e95-47bdfb81d9f6",
   "metadata": {},
   "outputs": [],
   "source": [
    "from functools import total_ordering\n",
    "\n",
    "@total_ordering\n",
    "@dataclass\n",
    "class Position:\n",
    "    stock : Stock\n",
    "    share : int\n",
    "\n",
    "    def __eq__(self, other):\n",
    "        if type(other) != Position:\n",
    "            raise TypeError(\"Can only compare instance of Position\")  \n",
    "        return self.stock.price*self.share == other.stock.price*other.share\n",
    "\n",
    "\n",
    "    def __gt__(self, other):\n",
    "        if type(other) != Position:\n",
    "            raise TypeError(\"Can only compare instance of Position\")  \n",
    "        return self.stock.price*self.share > other.stock.price*other.share"
   ]
  },
  {
   "cell_type": "code",
   "execution_count": 5,
   "id": "fd406263-1f80-4b90-aad7-9676ec5150cd",
   "metadata": {},
   "outputs": [],
   "source": [
    "@dataclass\n",
    "class Portfolio:\n",
    "    holdings : list[Position]\n",
    "\n",
    "    @property\n",
    "    def value(self):\n",
    "        return sum(position.stock.price*position.share for position in self.holdings)\n",
    "\n",
    "    @property\n",
    "    def portfolio_yield(self):\n",
    "        return sum(position.stock.annual_dividend*position.share for position in self.holdings)/self.value"
   ]
  },
  {
   "cell_type": "code",
   "execution_count": 6,
   "id": "3868dd5d-40d7-4bb2-890e-09cbd3e05269",
   "metadata": {},
   "outputs": [],
   "source": [
    "MSFT = Stock(ticker=\"MSFT\", price=360, dividend=0.62, dividend_frequency=4)\n",
    "LMT = Stock(\"LMT\", 360, 2.80, 4)\n",
    "GOOGL = Stock(\"GOOGL\", 2200, 0, 0)"
   ]
  },
  {
   "cell_type": "code",
   "execution_count": 7,
   "id": "a7a51aac-bccc-4110-a552-2854507c8a9b",
   "metadata": {},
   "outputs": [
    {
     "data": {
      "text/plain": [
       "Stock(ticker='LMT', price=360, dividend=2.8, dividend_frequency=4)"
      ]
     },
     "execution_count": 7,
     "metadata": {},
     "output_type": "execute_result"
    }
   ],
   "source": [
    "LMT"
   ]
  },
  {
   "cell_type": "code",
   "execution_count": 8,
   "id": "925b527b-381e-4c66-bcf4-8a9291cb4bf7",
   "metadata": {},
   "outputs": [
    {
     "name": "stdout",
     "output_type": "stream",
     "text": [
      "cannot assign to field 'dividend'\n"
     ]
    }
   ],
   "source": [
    "from dataclasses import FrozenInstanceError\n",
    "\n",
    "try:\n",
    "    LMT.dividend = 3.2\n",
    "except FrozenInstanceError as err:\n",
    "    print(err)"
   ]
  },
  {
   "cell_type": "code",
   "execution_count": 9,
   "id": "107acb3f-2175-4113-af00-60442a7f3d15",
   "metadata": {},
   "outputs": [
    {
     "data": {
      "text/plain": [
       "11.2"
      ]
     },
     "execution_count": 9,
     "metadata": {},
     "output_type": "execute_result"
    }
   ],
   "source": [
    "LMT.annual_dividend"
   ]
  },
  {
   "cell_type": "code",
   "execution_count": 10,
   "id": "1ff87077-7c29-4b38-ac2c-d1676a5a0a50",
   "metadata": {},
   "outputs": [],
   "source": [
    "p1 = Position(MSFT, 100)\n",
    "p2 = Position(LMT, 100)\n",
    "p3 = Position(GOOGL, 10)"
   ]
  },
  {
   "cell_type": "code",
   "execution_count": 11,
   "id": "8eefd54c-a196-4faa-ad13-3aec280a1d12",
   "metadata": {},
   "outputs": [
    {
     "data": {
      "text/plain": [
       "Position(stock=Stock(ticker='LMT', price=360, dividend=2.8, dividend_frequency=4), share=100)"
      ]
     },
     "execution_count": 11,
     "metadata": {},
     "output_type": "execute_result"
    }
   ],
   "source": [
    "p2"
   ]
  },
  {
   "cell_type": "code",
   "execution_count": 12,
   "id": "361f56af-bdb2-49bc-96e6-72da42daf0e4",
   "metadata": {},
   "outputs": [
    {
     "data": {
      "text/plain": [
       "True"
      ]
     },
     "execution_count": 12,
     "metadata": {},
     "output_type": "execute_result"
    }
   ],
   "source": [
    "p2 == p1"
   ]
  },
  {
   "cell_type": "code",
   "execution_count": 13,
   "id": "e9ceff6a-564f-44c6-8945-ef220ad7ca1e",
   "metadata": {},
   "outputs": [
    {
     "data": {
      "text/plain": [
       "False"
      ]
     },
     "execution_count": 13,
     "metadata": {},
     "output_type": "execute_result"
    }
   ],
   "source": [
    "p2 <= p3"
   ]
  },
  {
   "cell_type": "code",
   "execution_count": 14,
   "id": "ad07b22e-954f-44e4-84ab-d87834f74a0e",
   "metadata": {},
   "outputs": [],
   "source": [
    "portfolio = Portfolio(holdings=[p1, p2, p3])"
   ]
  },
  {
   "cell_type": "code",
   "execution_count": 15,
   "id": "319d4be0-7167-4ad6-978a-eab9c7d587fb",
   "metadata": {},
   "outputs": [
    {
     "data": {
      "text/plain": [
       "0.014553191489361702"
      ]
     },
     "execution_count": 15,
     "metadata": {},
     "output_type": "execute_result"
    }
   ],
   "source": [
    "portfolio.portfolio_yield"
   ]
  },
  {
   "cell_type": "code",
   "execution_count": 16,
   "id": "8ab4dd98-548d-4939-a1ee-3d432efcc0b7",
   "metadata": {},
   "outputs": [
    {
     "data": {
      "text/plain": [
       "'1.46%'"
      ]
     },
     "execution_count": 16,
     "metadata": {},
     "output_type": "execute_result"
    }
   ],
   "source": [
    "f\"{portfolio.portfolio_yield:.2%}\""
   ]
  },
  {
   "cell_type": "code",
   "execution_count": 17,
   "id": "df85ba6d-d05f-4451-a52e-834b2cc3b5bc",
   "metadata": {},
   "outputs": [
    {
     "data": {
      "text/plain": [
       "94000"
      ]
     },
     "execution_count": 17,
     "metadata": {},
     "output_type": "execute_result"
    }
   ],
   "source": [
    "portfolio.value"
   ]
  },
  {
   "cell_type": "code",
   "execution_count": 18,
   "id": "26633afe-e0ad-4b2f-a05e-02d2652705c7",
   "metadata": {},
   "outputs": [
    {
     "data": {
      "text/plain": [
       "'$94,000.00'"
      ]
     },
     "execution_count": 18,
     "metadata": {},
     "output_type": "execute_result"
    }
   ],
   "source": [
    "f\"${portfolio.value:,.2f}\""
   ]
  },
  {
   "cell_type": "code",
   "execution_count": 19,
   "id": "f9ba6002-ac26-43dc-9e7d-19b1dd59f381",
   "metadata": {},
   "outputs": [
    {
     "data": {
      "text/plain": [
       "{'ticker': 'GOOGL', 'price': 2200, 'dividend': 0, 'dividend_frequency': 0}"
      ]
     },
     "execution_count": 19,
     "metadata": {},
     "output_type": "execute_result"
    }
   ],
   "source": [
    "GOOGL.__dict__"
   ]
  },
  {
   "cell_type": "code",
   "execution_count": null,
   "id": "1fd4242b-544a-4750-a40d-e70a5b6741ad",
   "metadata": {},
   "outputs": [],
   "source": []
  }
 ],
 "metadata": {
  "kernelspec": {
   "display_name": "Python [conda env:MLenv]",
   "language": "python",
   "name": "conda-env-MLenv-py"
  },
  "language_info": {
   "codemirror_mode": {
    "name": "ipython",
    "version": 3
   },
   "file_extension": ".py",
   "mimetype": "text/x-python",
   "name": "python",
   "nbconvert_exporter": "python",
   "pygments_lexer": "ipython3",
   "version": "3.9.21"
  }
 },
 "nbformat": 4,
 "nbformat_minor": 5
}
