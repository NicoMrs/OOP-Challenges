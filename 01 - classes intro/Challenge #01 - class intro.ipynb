{
 "cells": [
  {
   "cell_type": "markdown",
   "id": "7732e483-efe1-4747-b80e-f698118740d2",
   "metadata": {},
   "source": [
    "## Requirements\n",
    "- Define a Student class with 2 instance attributes (name, age) and 1 class attribute (educational_platform = udemy);\n",
    "- Make it so that instances of Student could be created by simply specifying the name. Hint: set the default age to a number\n",
    "- Define a greet() method which alternates between various name greetings. When invoked, the method should randomly select\n",
    "a greeting and interpolate in the name of the student\n",
    "       - Hi, I'm...\n",
    "       - Hey there, my name is...\n",
    "       - Hi. Oh, my name is...\n",
    "- Starting with a list of several student names, create student instances from each, and have each student introduce themselves\n",
    "\n",
    "Example Usage\n",
    "s1 = Student(\"Alice\")\n",
    "s1.greet()\n",
    "\"Hi, I'm Alice\"\n",
    "\n",
    "for i in range(4):\n",
    "    print(s1.greet())\n",
    "\n",
    "Hey there, my name is Alice\n",
    "Hey there, my name is Alice\n",
    "Hi, I'm Alice\n",
    "Hi. Oh, my name is Alice\n",
    "\n",
    "s1.age\n",
    "34"
   ]
  },
  {
   "cell_type": "code",
   "execution_count": 2,
   "id": "b60594da-5fa6-4274-b7cc-149627596439",
   "metadata": {},
   "outputs": [],
   "source": [
    "import random\n",
    "\n",
    "class Student:\n",
    "\n",
    "    educational_platform = \"udemy\"\n",
    "    GREETINGS = [\n",
    "        \"Hi, I'm\",\n",
    "        \"Hey there, my name is\", \n",
    "        \"Hi. Oh, my name is\",\n",
    "        \"Hello. I'm\",\n",
    "    ]\n",
    "                 \n",
    "    def __init__(self, name, age = 18):\n",
    "        self.name = name.capitalize()\n",
    "        self.age = int(age) # ne property needed, int will perform data type check\n",
    "\n",
    "    def __repr__(self):\n",
    "        class_name = type(self).__name__\n",
    "        return f\"{class_name}(name='{self.name}', age={self.age})\"\n",
    "\n",
    "    def greet(self):\n",
    "        return f\"{random.choice(self.GREETINGS)} {self.name}.\"\n",
    "        "
   ]
  },
  {
   "cell_type": "code",
   "execution_count": 3,
   "id": "98efb9f9-b31a-4014-bad0-ddd40b451a7c",
   "metadata": {},
   "outputs": [],
   "source": [
    "names = [\"Nicolas\", \"Alice\", \"George\"]"
   ]
  },
  {
   "cell_type": "code",
   "execution_count": 4,
   "id": "d94c1914-c88f-410a-803c-e5eeef049a6e",
   "metadata": {},
   "outputs": [
    {
     "name": "stdout",
     "output_type": "stream",
     "text": [
      "Hey there, my name is Nicolas.\n",
      "Hi, I'm Alice.\n",
      "Hi, I'm George.\n"
     ]
    }
   ],
   "source": [
    "for name in names:\n",
    "    s = Student(name)\n",
    "    print(s.greet())"
   ]
  }
 ],
 "metadata": {
  "kernelspec": {
   "display_name": "Python 3 (ipykernel)",
   "language": "python",
   "name": "python3"
  },
  "language_info": {
   "codemirror_mode": {
    "name": "ipython",
    "version": 3
   },
   "file_extension": ".py",
   "mimetype": "text/x-python",
   "name": "python",
   "nbconvert_exporter": "python",
   "pygments_lexer": "ipython3",
   "version": "3.12.7"
  }
 },
 "nbformat": 4,
 "nbformat_minor": 5
}
