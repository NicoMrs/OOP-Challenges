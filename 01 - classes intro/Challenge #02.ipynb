{
 "cells": [
  {
   "cell_type": "markdown",
   "id": "7510ab58-45d9-4758-b21b-8df8e09f62d9",
   "metadata": {},
   "source": [
    "# Requirements\n",
    "* Define a Password class that supports two instance attributes: strength and length\n",
    "* The class should generate a random password having the following characteristics, depending on strength:\n",
    "- low: include a mix of 8 lowercase and uppercase letters only\n",
    "- mid: a mix of 12 lowercase and uppercase letters and numbers\n",
    "- high: a mix of 16 lowercase and uppercase letters and numbers and punctuation signs\n",
    "* If the user specifies a length, the user-specified one overrides the defaults above\n",
    "* If the user does not specify a strength, assume \"high\"\n",
    "* Finally, the class should also implement a method called show_input_universe() which is not specific to the instance.\n",
    "The method should return a dict of lists exposing the pools of characters from where the sampling is done, e.g.\n",
    "{\"letters\": [\"a\", \"b\"...], \"numbers\": [0, 1, 2...], \"punctuation\": [\"!\", \"?\"...]}.\n",
    "\n",
    "Example Usage\n",
    "p1 = Password(strength=\"low\")\n",
    "p1.password\n",
    "LAyuu4EI\n",
    "\n",
    "p2 = Password(strength=\"mid\", length=37)\n",
    "p2.password\n",
    "D6tjKt885vM2U5IwHYqhr9aL6SbIBhHJ16gZf\n",
    "\n",
    "p3 = Password(strength=\"high\")\n",
    "p3.password\n",
    "71'Z>fG{9gIUQQ2a\n",
    "\n",
    "p4 = Password()\n",
    "p4.password\n",
    "IGYY2veeqz1Q\n"
   ]
  },
  {
   "cell_type": "code",
   "execution_count": 278,
   "id": "c6cc7941-c42d-49b5-b1cd-24536bf564b4",
   "metadata": {},
   "outputs": [],
   "source": [
    "import string\n",
    "import random\n",
    "\n",
    "class Password:\n",
    "\n",
    "    omega = {\n",
    "        'low': string.ascii_letters,\n",
    "        'mid': string.ascii_letters+string.digits,\n",
    "        'high': string.ascii_letters+string.digits+string.punctuation\n",
    "    }\n",
    "\n",
    "    default_lengths = {\n",
    "        'low':8,\n",
    "        'mid':12,\n",
    "        'high':16\n",
    "    }\n",
    "\n",
    "    def __init__(self, strength='low', length= None):\n",
    "        self.strength = strength\n",
    "        self.length = length\n",
    "\n",
    "    @property\n",
    "    def strength(self):\n",
    "        return self._strength\n",
    "    \n",
    "    @strength.setter\n",
    "    def strength(self, value):\n",
    "        if value.lower() not in self.omega.keys():\n",
    "            raise ValueError(f\"value='{value}' must be in {self.omega.keys()}\")\n",
    "        self._strength = value\n",
    "\n",
    "    @property\n",
    "    def password(self):\n",
    "        return self._generate()\n",
    "    \n",
    "    def _generate(self):\n",
    "        k = self.default_lengths[self._strength] if not self.length else int(self.length)\n",
    "        return ''.join(random.sample(self.omega[self.strength], k))\n",
    "\n",
    "    @classmethod\n",
    "    def show_input_universe(cls):\n",
    "        \"\"\" return universe \"\"\"\n",
    "        return cls.omega"
   ]
  },
  {
   "cell_type": "markdown",
   "id": "79e0c6a1-ece1-4fda-94a7-f63ae539b166",
   "metadata": {},
   "source": [
    "### Example Usage"
   ]
  },
  {
   "cell_type": "code",
   "execution_count": 280,
   "id": "04b17461-e304-4bbc-932a-6ad69b410d03",
   "metadata": {},
   "outputs": [
    {
     "data": {
      "text/plain": [
       "'HJcDgUKr'"
      ]
     },
     "execution_count": 280,
     "metadata": {},
     "output_type": "execute_result"
    }
   ],
   "source": [
    "p1 = Password(strength=\"low\")\n",
    "p1.password"
   ]
  },
  {
   "cell_type": "code",
   "execution_count": 282,
   "id": "edecff82-4be6-44a0-ae99-3edaef1f4da5",
   "metadata": {},
   "outputs": [
    {
     "data": {
      "text/plain": [
       "'ZK93FwXVmWIRqcAtsUdbn4N65MLPprivy8BOh'"
      ]
     },
     "execution_count": 282,
     "metadata": {},
     "output_type": "execute_result"
    }
   ],
   "source": [
    "p2 = Password(strength=\"mid\", length=37)\n",
    "p2.password"
   ]
  },
  {
   "cell_type": "code",
   "execution_count": 284,
   "id": "8b5c28a5-6c7f-44fc-b2fa-50e0f187293c",
   "metadata": {},
   "outputs": [
    {
     "data": {
      "text/plain": [
       "'_AZL,Y8e;30X|P]U'"
      ]
     },
     "execution_count": 284,
     "metadata": {},
     "output_type": "execute_result"
    }
   ],
   "source": [
    "p3 = Password(strength=\"high\")\n",
    "p3.password"
   ]
  },
  {
   "cell_type": "code",
   "execution_count": 286,
   "id": "58de08f7-f50e-47b3-b452-a3c1c6b27333",
   "metadata": {},
   "outputs": [
    {
     "data": {
      "text/plain": [
       "'hWUgDyzK'"
      ]
     },
     "execution_count": 286,
     "metadata": {},
     "output_type": "execute_result"
    }
   ],
   "source": [
    "p4 = Password()\n",
    "p4.password"
   ]
  },
  {
   "cell_type": "code",
   "execution_count": 288,
   "id": "4c453d57-3701-42e0-92d4-2ed28429e856",
   "metadata": {},
   "outputs": [
    {
     "name": "stdout",
     "output_type": "stream",
     "text": [
      "value='lw' must be in dict_keys(['low', 'mid', 'high'])\n"
     ]
    }
   ],
   "source": [
    "# try incorrect password generation\n",
    "try:\n",
    "    mp = Password('lw')\n",
    "except ValueError as val_err:\n",
    "    print(val_err)"
   ]
  },
  {
   "cell_type": "code",
   "execution_count": 256,
   "id": "10e10c39-4f84-4508-b6f3-5a0c5c2aa049",
   "metadata": {},
   "outputs": [
    {
     "name": "stdout",
     "output_type": "stream",
     "text": [
      "{'high': 'abcdefghijklmnopqrstuvwxyzABCDEFGHIJKLMNOPQRSTUVWXYZ0123456789!\"#$%&\\'()*+,-./:;<=>?@[\\\\]^_`{|}~',\n",
      " 'low': 'abcdefghijklmnopqrstuvwxyzABCDEFGHIJKLMNOPQRSTUVWXYZ',\n",
      " 'mid': 'abcdefghijklmnopqrstuvwxyzABCDEFGHIJKLMNOPQRSTUVWXYZ0123456789'}\n"
     ]
    }
   ],
   "source": [
    "import pprint\n",
    "pprint.pprint(Password.show_input_universe())"
   ]
  },
  {
   "cell_type": "code",
   "execution_count": 258,
   "id": "61b1f299-c750-413e-a3b4-a018eb9b90f8",
   "metadata": {},
   "outputs": [
    {
     "data": {
      "text/plain": [
       "mappingproxy({'__module__': '__main__',\n",
       "              'omega': {'low': 'abcdefghijklmnopqrstuvwxyzABCDEFGHIJKLMNOPQRSTUVWXYZ',\n",
       "               'mid': 'abcdefghijklmnopqrstuvwxyzABCDEFGHIJKLMNOPQRSTUVWXYZ0123456789',\n",
       "               'high': 'abcdefghijklmnopqrstuvwxyzABCDEFGHIJKLMNOPQRSTUVWXYZ0123456789!\"#$%&\\'()*+,-./:;<=>?@[\\\\]^_`{|}~'},\n",
       "              'default_lengths': {'low': 8, 'mid': 12, 'high': 16},\n",
       "              '__init__': <function __main__.Password.__init__(self, strength, length=None)>,\n",
       "              'strength': <property at 0x230822eac50>,\n",
       "              'password': <property at 0x230822e8310>,\n",
       "              '_generate': <function __main__.Password._generate(self)>,\n",
       "              'show_input_universe': <classmethod(<function Password.show_input_universe at 0x000002308232BCE0>)>,\n",
       "              '__dict__': <attribute '__dict__' of 'Password' objects>,\n",
       "              '__weakref__': <attribute '__weakref__' of 'Password' objects>,\n",
       "              '__doc__': None})"
      ]
     },
     "execution_count": 258,
     "metadata": {},
     "output_type": "execute_result"
    }
   ],
   "source": [
    "Password.__dict__"
   ]
  },
  {
   "cell_type": "code",
   "execution_count": 260,
   "id": "d549de1b-5948-4819-acb7-2ff658cd2b4e",
   "metadata": {},
   "outputs": [
    {
     "data": {
      "text/plain": [
       "{'_strength': 'low', 'length': None}"
      ]
     },
     "execution_count": 260,
     "metadata": {},
     "output_type": "execute_result"
    }
   ],
   "source": [
    "p1 = Password(strength=\"low\")\n",
    "p1.__dict__"
   ]
  },
  {
   "cell_type": "code",
   "execution_count": 262,
   "id": "63fd0fe2-523a-4915-b349-aff5dc39753f",
   "metadata": {},
   "outputs": [
    {
     "data": {
      "text/plain": [
       "'UBjRhVYP'"
      ]
     },
     "execution_count": 262,
     "metadata": {},
     "output_type": "execute_result"
    }
   ],
   "source": [
    "p1 = Password(strength=\"low\")\n",
    "p1.password"
   ]
  },
  {
   "cell_type": "code",
   "execution_count": 264,
   "id": "a6c2d346-4a46-435d-8e72-88b257c39d6e",
   "metadata": {},
   "outputs": [],
   "source": [
    "#p1.password = 5 # won't work because we dfine a read only property"
   ]
  }
 ],
 "metadata": {
  "kernelspec": {
   "display_name": "Python 3 (ipykernel)",
   "language": "python",
   "name": "python3"
  },
  "language_info": {
   "codemirror_mode": {
    "name": "ipython",
    "version": 3
   },
   "file_extension": ".py",
   "mimetype": "text/x-python",
   "name": "python",
   "nbconvert_exporter": "python",
   "pygments_lexer": "ipython3",
   "version": "3.12.7"
  }
 },
 "nbformat": 4,
 "nbformat_minor": 5
}
