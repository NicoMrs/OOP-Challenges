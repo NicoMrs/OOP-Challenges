{
 "cells": [
  {
   "cell_type": "markdown",
   "id": "532fe4fe-0f1b-4998-961c-638c1ed302ac",
   "metadata": {},
   "source": [
    "# Requirements:\n",
    "- Create a letter guessing game for the English alphabet\n",
    "- Initially, the computer picks a letter; then, the user is repeatedly given opportunities to guess that letter\n",
    "- The performance of the user is tracked. Specifically:\n",
    "    - the overall time taken to arrive at an accurate guess, and\n",
    "    - the number of valid guesses that came before what the computer guess, and\n",
    "    - the number of valid guesses that came after\n",
    "- Internally, try to have the application use a custom exception hierarchy to refine the handling of the game flow.\n",
    "  In other words, try to have the game control flow incorporate custom exceptions that match the problem domain\n",
    "  (e.g. before letter, after letter, not a letter, etc)\n",
    "- In the end end the user gets a summary of how long it took to correctly guess as well how many before/after guesses\n",
    "  were made\n",
    "- If the game is interrupted halfway through (hint: KeyboardInterrupt), the user still gets the summary of the\n",
    "gameplay up to that point, including time played and number of valid guesses of each type."
   ]
  },
  {
   "cell_type": "code",
   "execution_count": 3,
   "id": "50e0d349-25db-48f6-a99c-72ad00eb6582",
   "metadata": {},
   "outputs": [],
   "source": [
    "from random import choice\n",
    "from string import ascii_lowercase\n",
    "import time"
   ]
  },
  {
   "cell_type": "code",
   "execution_count": 4,
   "id": "1615cb00-ce9a-422f-af09-3966350c1c28",
   "metadata": {},
   "outputs": [],
   "source": [
    "class NotALetterError(Exception):\n",
    "    \"\"\" Not a letter \"\"\"\n",
    "\n",
    "class BeforeLetterError(Exception):\n",
    "    \"\"\" Before letter \"\"\"\n",
    "\n",
    "class AfterLetterError(Exception):\n",
    "    \"\"\" After letter \"\"\""
   ]
  },
  {
   "cell_type": "code",
   "execution_count": 5,
   "id": "cd857870-d770-47ee-ac7b-770ac4778e96",
   "metadata": {},
   "outputs": [],
   "source": [
    "class LetterGuessingGame:\n",
    "\n",
    "    def __init__(self):\n",
    "        self._letter = choice(ascii_lowercase)\n",
    "        print(self._letter)\n",
    "        self._before_guesses = 0\n",
    "        self._after_guesses = 0\n",
    "        \n",
    "    def _end_game(self, duration):\n",
    "        print(f\"That was correct! You played for {duration:.2f} seconds, and made \"\n",
    "              f\"{self._before_guesses} before guesses and {self._after_guesses} after guesses.\")\n",
    "        \n",
    "    def play(self):\n",
    "        start = time.time()\n",
    "        ans = input(\"The computer has chosen a letter from the English alphabet... what do you think it was?\")\n",
    "\n",
    "        while True:\n",
    "            try:\n",
    "                if ans not in ascii_lowercase:\n",
    "                    raise NotALetterError\n",
    "                if ans.lower() < self._letter:\n",
    "                    raise BeforeLetterError\n",
    "                elif ans.lower() > self._letter:\n",
    "                    raise AfterLetterError\n",
    "                else:\n",
    "                    end = time.time()\n",
    "                    self._end_game(end-start)\n",
    "                    break\n",
    "                    \n",
    "            except NotALetterError:\n",
    "                ans = input(\"Only English alphabet letters are supported...\")\n",
    "                \n",
    "            except BeforeLetterError:\n",
    "                self._before_guesses += 1\n",
    "                ans = input(\"Nope, it was something after, guess again\")\n",
    "        \n",
    "            except AfterLetterError:\n",
    "                self._after_guesses += 1\n",
    "                ans = input(\"Nope, it was something before, guess again\")\n",
    "        \n",
    "            except KeyboardInterrupt:\n",
    "                self._end_game(end-start)"
   ]
  },
  {
   "cell_type": "code",
   "execution_count": 6,
   "id": "717c420a-afea-4cb9-9fc9-b3fade243f68",
   "metadata": {},
   "outputs": [
    {
     "name": "stdout",
     "output_type": "stream",
     "text": [
      "y\n"
     ]
    }
   ],
   "source": [
    "game = LetterGuessingGame()"
   ]
  },
  {
   "cell_type": "code",
   "execution_count": 7,
   "id": "ef1877ce-2e3f-467e-92c4-ddfa53d10a86",
   "metadata": {},
   "outputs": [
    {
     "name": "stdin",
     "output_type": "stream",
     "text": [
      "The computer has chosen a letter from the English alphabet... what do you think it was? a\n",
      "Nope, it was something after, guess again j\n",
      "Nope, it was something after, guess again z\n",
      "Nope, it was something before, guess again o\n",
      "Nope, it was something after, guess again 4\n",
      "Only English alphabet letters are supported... y\n"
     ]
    },
    {
     "name": "stdout",
     "output_type": "stream",
     "text": [
      "That was correct! You played for 22.98 seconds, and made 3 before guesses and 1 after guesses.\n"
     ]
    }
   ],
   "source": [
    "game.play()"
   ]
  }
 ],
 "metadata": {
  "kernelspec": {
   "display_name": "Python 3 (ipykernel)",
   "language": "python",
   "name": "python3"
  },
  "language_info": {
   "codemirror_mode": {
    "name": "ipython",
    "version": 3
   },
   "file_extension": ".py",
   "mimetype": "text/x-python",
   "name": "python",
   "nbconvert_exporter": "python",
   "pygments_lexer": "ipython3",
   "version": "3.12.7"
  }
 },
 "nbformat": 4,
 "nbformat_minor": 5
}
