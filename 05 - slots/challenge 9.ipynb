{
 "cells": [
  {
   "cell_type": "markdown",
   "id": "00638be2-8353-4cef-9907-b81827b1e3f2",
   "metadata": {},
   "source": [
    "# Requirements:\n",
    "- Define a new type called Point3D, that encapsulates 3 attributes: x, y, z\n",
    "- The class should be slotted to those 3 attributes only\n",
    "- Then define two subclasses of Point3D:\n",
    "    - ColoredPoint - also slotted, but in addition supports a color attribute, defaulting to \"black\"\n",
    "    - ShapedPoint - also slotted, but in addition supports a shape attribute, defaulting to \"sphere\"\n",
    "- All instances of the above 3 classes should produce a representation that makees it easy to recreate the instance\n",
    "- As a bonus challenge, consider implementing a single __repr__ in Point3D that flexibly returns all the applicable\n",
    "attributes depending on an instance's type, i.e. x, y, z for Point3D, x, y, z, color for ColoredPoint, and so on."
   ]
  },
  {
   "cell_type": "code",
   "execution_count": 2,
   "id": "9a4f0610-0f40-4a31-ac3c-cf4c92119a1c",
   "metadata": {},
   "outputs": [],
   "source": [
    "class Point3D:\n",
    "    __slots__ = ('x', 'y', 'z')\n",
    "    \n",
    "    def __init__(self, x, y, z):\n",
    "        self.x = x\n",
    "        self.y = y\n",
    "        self.z = z\n",
    "\n",
    "    def __repr__(self):\n",
    "        return \"{}(x={}, y={}, z={})\".format(type(self).__name__, *self)\n",
    "\n",
    "    def __iter__(self):\n",
    "        return (c for c in (self.x,self.y,self.z))\n",
    "\n",
    "class ColoredPoint(Point3D):\n",
    "    # if not slotted the class will have a dict namespace\n",
    "    __slots__ = ('color',) \n",
    "    \n",
    "    def __init__(self, *args, color = \"black\"):\n",
    "        super().__init__(*args)\n",
    "        self.color = color\n",
    "\n",
    "    def __repr__(self):\n",
    "         return \"{}(x={}, y={}, z={}, color={!r})\".format(type(self).__name__, *self, self.color)\n",
    "\n",
    "class ShapedPoint(Point3D):\n",
    "    # if not slotted the class will have a dict namespace\n",
    "    __slots__ = ('shape',) \n",
    "    \n",
    "    def __init__(self, *args, shape = \"sphere\"):\n",
    "        super().__init__(*args)\n",
    "        self.shape = shape\n",
    "\n",
    "    def __repr__(self):\n",
    "     return \"{}(x={}, y={}, z={}, shape={!r})\".format(type(self).__name__, *self, self.shape)"
   ]
  },
  {
   "cell_type": "code",
   "execution_count": 3,
   "id": "5c24bdd5-ff5f-470d-8ea8-222fdd1ab2d7",
   "metadata": {},
   "outputs": [],
   "source": [
    "p = Point3D(1, 2, 3)"
   ]
  },
  {
   "cell_type": "code",
   "execution_count": 4,
   "id": "34bf127d-732a-45de-8761-717c64de00e1",
   "metadata": {},
   "outputs": [
    {
     "data": {
      "text/plain": [
       "Point3D(x=1, y=2, z=3)"
      ]
     },
     "execution_count": 4,
     "metadata": {},
     "output_type": "execute_result"
    }
   ],
   "source": [
    "p"
   ]
  },
  {
   "cell_type": "code",
   "execution_count": 5,
   "id": "f6d2589c-8b52-4208-aa2a-1ba00224cc98",
   "metadata": {},
   "outputs": [
    {
     "data": {
      "text/plain": [
       "mappingproxy({'__module__': '__main__',\n",
       "              '__slots__': ('x', 'y', 'z'),\n",
       "              '__init__': <function __main__.Point3D.__init__(self, x, y, z)>,\n",
       "              '__repr__': <function __main__.Point3D.__repr__(self)>,\n",
       "              '__iter__': <function __main__.Point3D.__iter__(self)>,\n",
       "              'x': <member 'x' of 'Point3D' objects>,\n",
       "              'y': <member 'y' of 'Point3D' objects>,\n",
       "              'z': <member 'z' of 'Point3D' objects>,\n",
       "              '__doc__': None})"
      ]
     },
     "execution_count": 5,
     "metadata": {},
     "output_type": "execute_result"
    }
   ],
   "source": [
    "Point3D.__dict__ #slots are class residents not instance residents"
   ]
  },
  {
   "cell_type": "code",
   "execution_count": 6,
   "id": "b4f3200b-7fd1-4e5b-b8e5-36eaa0e2f8a1",
   "metadata": {},
   "outputs": [
    {
     "name": "stdout",
     "output_type": "stream",
     "text": [
      "'Point3D' object has no attribute '__dict__'\n"
     ]
    }
   ],
   "source": [
    "try:\n",
    "    p.__dict__ # no instance __dict__ which is infinitely extensible, instead the class is slotted\n",
    "except AttributeError as err:\n",
    "    print(err)"
   ]
  },
  {
   "cell_type": "code",
   "execution_count": 7,
   "id": "d7755e1c-1815-44aa-b425-cb0367d5fd66",
   "metadata": {},
   "outputs": [],
   "source": [
    "cp = ColoredPoint(1, 4, 9, color=\"blue\")"
   ]
  },
  {
   "cell_type": "code",
   "execution_count": 8,
   "id": "9303eaaa-4f79-4940-96ed-ae5c6c4d4ab7",
   "metadata": {},
   "outputs": [
    {
     "data": {
      "text/plain": [
       "mappingproxy({'__module__': '__main__',\n",
       "              '__slots__': ('color',),\n",
       "              '__init__': <function __main__.ColoredPoint.__init__(self, *args, color='black')>,\n",
       "              '__repr__': <function __main__.ColoredPoint.__repr__(self)>,\n",
       "              'color': <member 'color' of 'ColoredPoint' objects>,\n",
       "              '__doc__': None})"
      ]
     },
     "execution_count": 8,
     "metadata": {},
     "output_type": "execute_result"
    }
   ],
   "source": [
    "ColoredPoint.__dict__"
   ]
  },
  {
   "cell_type": "code",
   "execution_count": 9,
   "id": "6795d8b2-0266-4d01-9b30-4970c705923b",
   "metadata": {},
   "outputs": [
    {
     "name": "stdout",
     "output_type": "stream",
     "text": [
      "'ColoredPoint' object has no attribute '__dict__'\n"
     ]
    }
   ],
   "source": [
    "try:\n",
    "    cp.__dict__ # no instance __dict__ which is infinitely extensible, instead the class is slotted\n",
    "except AttributeError as err:\n",
    "    print(err)"
   ]
  },
  {
   "cell_type": "code",
   "execution_count": 10,
   "id": "ad55de44-16fc-4cf5-88e5-590c014e894c",
   "metadata": {},
   "outputs": [],
   "source": [
    "sp = ShapedPoint(1, 2, 9)"
   ]
  },
  {
   "cell_type": "code",
   "execution_count": 11,
   "id": "d53a6853-cb52-41e5-b1c7-2b5b87c9689a",
   "metadata": {},
   "outputs": [
    {
     "name": "stdout",
     "output_type": "stream",
     "text": [
      "'ShapedPoint' object has no attribute '__dict__'\n"
     ]
    }
   ],
   "source": [
    "try:\n",
    "    sp.__dict__ # no instance __dict__ which is infinitely extensible, instead the class is slotted\n",
    "except AttributeError as err:\n",
    "    print(err)"
   ]
  },
  {
   "cell_type": "code",
   "execution_count": 12,
   "id": "3ec6b6bc-9bd1-4646-8425-7a8bdcfd3114",
   "metadata": {},
   "outputs": [
    {
     "name": "stdout",
     "output_type": "stream",
     "text": [
      "'ShapedPoint' object has no attribute 'name'\n"
     ]
    }
   ],
   "source": [
    "try:\n",
    "    sp.name = \"spherical\"\n",
    "except AttributeError as err:\n",
    "    print(err)"
   ]
  },
  {
   "cell_type": "code",
   "execution_count": 13,
   "id": "2ae6955b-4cbb-40c5-8525-427b7cba0a2f",
   "metadata": {},
   "outputs": [
    {
     "data": {
      "text/plain": [
       "ShapedPoint(x=1, y=2, z=9, shape='cube')"
      ]
     },
     "execution_count": 13,
     "metadata": {},
     "output_type": "execute_result"
    }
   ],
   "source": [
    "sp.shape = \"cube\"\n",
    "sp"
   ]
  },
  {
   "cell_type": "code",
   "execution_count": 14,
   "id": "dfefb66e-e2e7-4bd6-96d9-a77d98199396",
   "metadata": {},
   "outputs": [
    {
     "data": {
      "text/plain": [
       "ColoredPoint(x=1, y=4, z=9, color='blue')"
      ]
     },
     "execution_count": 14,
     "metadata": {},
     "output_type": "execute_result"
    }
   ],
   "source": [
    "cp"
   ]
  },
  {
   "cell_type": "code",
   "execution_count": 15,
   "id": "6d157da0-198f-4916-84ec-ead800fa9fa1",
   "metadata": {},
   "outputs": [
    {
     "data": {
      "text/plain": [
       "Point3D(x=1, y=2, z=3)"
      ]
     },
     "execution_count": 15,
     "metadata": {},
     "output_type": "execute_result"
    }
   ],
   "source": [
    "p"
   ]
  },
  {
   "cell_type": "code",
   "execution_count": 16,
   "id": "debb762f-07fa-41ef-8f10-d379485ae950",
   "metadata": {},
   "outputs": [
    {
     "data": {
      "text/plain": [
       "mappingproxy({'__module__': '__main__',\n",
       "              '__slots__': ('color',),\n",
       "              '__init__': <function __main__.ColoredPoint.__init__(self, *args, color='black')>,\n",
       "              '__repr__': <function __main__.ColoredPoint.__repr__(self)>,\n",
       "              'color': <member 'color' of 'ColoredPoint' objects>,\n",
       "              '__doc__': None})"
      ]
     },
     "execution_count": 16,
     "metadata": {},
     "output_type": "execute_result"
    }
   ],
   "source": [
    "ColoredPoint.__dict__"
   ]
  }
 ],
 "metadata": {
  "kernelspec": {
   "display_name": "Python [conda env:base] *",
   "language": "python",
   "name": "conda-base-py"
  },
  "language_info": {
   "codemirror_mode": {
    "name": "ipython",
    "version": 3
   },
   "file_extension": ".py",
   "mimetype": "text/x-python",
   "name": "python",
   "nbconvert_exporter": "python",
   "pygments_lexer": "ipython3",
   "version": "3.12.7"
  }
 },
 "nbformat": 4,
 "nbformat_minor": 5
}
