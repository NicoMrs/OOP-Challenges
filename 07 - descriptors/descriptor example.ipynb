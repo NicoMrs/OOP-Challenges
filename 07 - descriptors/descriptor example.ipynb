{
 "cells": [
  {
   "cell_type": "markdown",
   "id": "ae5fc157-3dad-4487-bd48-e38fe934ef85",
   "metadata": {},
   "source": [
    "# Descriptor\n",
    "The descriptor protocol is define below. Data descriptors have the **'\\_\\_set__'** protocol defined, whereas the non data do not.\n",
    "Data descriptors take precedence over instance name space. Under the hood, properties, classmethod, staticmethods and slots are in fact descriptors."
   ]
  },
  {
   "cell_type": "code",
   "execution_count": 2,
   "id": "ec7e8c97-52c7-46cd-a6e8-c0c0fc9eea00",
   "metadata": {},
   "outputs": [],
   "source": [
    "class Descriptor:\n",
    "    \n",
    "    def __init__(self):\n",
    "        pass\n",
    "\n",
    "    def __set_name__(self, owner, name):\n",
    "        pass\n",
    "        \n",
    "    def __get__(self, instance, owner):\n",
    "        pass\n",
    "\n",
    "    def __set__(self, instance, value):\n",
    "        pass\n",
    "\n",
    "    def __delete__(self, instance):\n",
    "        pass"
   ]
  },
  {
   "cell_type": "markdown",
   "id": "9713c382-f231-4e5b-8efa-6653b794fb85",
   "metadata": {},
   "source": [
    "### Implement with descriptor"
   ]
  },
  {
   "cell_type": "code",
   "execution_count": 4,
   "id": "e44ec127-bf07-4665-8ef6-ccc37c58aaf0",
   "metadata": {},
   "outputs": [],
   "source": [
    "class ValidAmount:\n",
    "\n",
    "    def __init__(self, max_amount):\n",
    "        self.max_amount = max_amount\n",
    "\n",
    "    def __set_name__(self, owner, name):\n",
    "        self.name = name # set name attribute within instance object\n",
    "\n",
    "    def __get__(self, instance, owner):\n",
    "        if instance is None:\n",
    "            return self\n",
    "        return instance.__dict__.get(f\"valid_{self.name}\")\n",
    "\n",
    "    def __set__(self, instance, value):\n",
    "        if not isinstance(value, (float, int)):\n",
    "            raise TypeError(f\"{value} must be int or float\")\n",
    "\n",
    "        if value < 0:\n",
    "            raise ValueError(f\"{value} must be positive\")\n",
    "\n",
    "        if value >  self.max_amount:\n",
    "            raise ValueError(f\"{value} should me less than {self.amount}\")\n",
    "\n",
    "        instance.__dict__[f\"valid_{self.name}\"] = value\n",
    "\n",
    "    def __delete__(self, instance):\n",
    "        del instance.__dict__[f\"valid_{self.name}\"]\n"
   ]
  },
  {
   "cell_type": "code",
   "execution_count": 5,
   "id": "37e1aefa-c886-49a4-b692-4d7baffa14e8",
   "metadata": {},
   "outputs": [],
   "source": [
    "class BankAccount:\n",
    "    deposit = ValidAmount(100000)\n",
    "    withdraw = ValidAmount(5000)\n",
    "\n",
    "    def __init__(self, owner):\n",
    "        self.owner = owner"
   ]
  },
  {
   "cell_type": "code",
   "execution_count": 6,
   "id": "ca48af50-2e35-43a9-b301-4204931cab83",
   "metadata": {},
   "outputs": [
    {
     "data": {
      "text/plain": [
       "{'owner': 'Nicolas'}"
      ]
     },
     "execution_count": 6,
     "metadata": {},
     "output_type": "execute_result"
    }
   ],
   "source": [
    "b = BankAccount(\"Nicolas\")\n",
    "b.__dict__"
   ]
  },
  {
   "cell_type": "code",
   "execution_count": 7,
   "id": "6ff2ccdc-95e6-4e6c-86f8-b8cc9a5242f4",
   "metadata": {},
   "outputs": [
    {
     "data": {
      "text/plain": [
       "{'owner': 'Nicolas', 'valid_deposit': 8000, 'valid_withdraw': 588}"
      ]
     },
     "execution_count": 7,
     "metadata": {},
     "output_type": "execute_result"
    }
   ],
   "source": [
    "b.deposit = 8000\n",
    "b.withdraw = 588\n",
    "b.__dict__"
   ]
  },
  {
   "cell_type": "code",
   "execution_count": 8,
   "id": "cebf2720-2b27-4a6d-8268-d25c350b2f92",
   "metadata": {},
   "outputs": [
    {
     "data": {
      "text/plain": [
       "8000"
      ]
     },
     "execution_count": 8,
     "metadata": {},
     "output_type": "execute_result"
    }
   ],
   "source": [
    "b.deposit"
   ]
  },
  {
   "cell_type": "code",
   "execution_count": 9,
   "id": "73113c7f-d279-4d3f-9b9c-82ca7b6481bb",
   "metadata": {},
   "outputs": [
    {
     "name": "stdout",
     "output_type": "stream",
     "text": [
      "-5 must be positive\n"
     ]
    }
   ],
   "source": [
    "try:\n",
    "    b.deposit = -5\n",
    "except ValueError as err:\n",
    "    print(err)"
   ]
  },
  {
   "cell_type": "markdown",
   "id": "dc78324e-4847-43b6-9f90-a3a3a6697281",
   "metadata": {},
   "source": [
    "### Implement with properties"
   ]
  },
  {
   "cell_type": "code",
   "execution_count": 11,
   "id": "3bc6eae6-9f45-44f9-86f4-31af689b79aa",
   "metadata": {},
   "outputs": [],
   "source": [
    "class BankAccount:\n",
    "\n",
    "    def __init__(self, max_amount):\n",
    "        self.max_amount = max_amount\n",
    "        self.deposit = 0\n",
    "\n",
    "    @property\n",
    "    def deposit(self):\n",
    "        return self._valid_deposit\n",
    "\n",
    "    @deposit.setter\n",
    "    def deposit(self, value):\n",
    "        if not isinstance(value, (float, int)):\n",
    "            raise TypeError(f\"{value} must be int or float\")\n",
    "\n",
    "        if value < 0:\n",
    "            raise ValueError(f\"{value} must be positive\")\n",
    "\n",
    "        if value >  self.max_amount:\n",
    "            raise ValueError(f\"{value} should me less than {self.amount}\")\n",
    "\n",
    "        self._valid_deposit = value\n",
    "\n",
    "    @deposit.deleter\n",
    "    def deposit(self):\n",
    "        del self._valid_deposit"
   ]
  },
  {
   "cell_type": "code",
   "execution_count": 12,
   "id": "02a1cd30-571f-4c31-913d-0b4da5917b4a",
   "metadata": {},
   "outputs": [],
   "source": [
    "new_b = BankAccount(500)"
   ]
  },
  {
   "cell_type": "code",
   "execution_count": 13,
   "id": "9f9d996d-645d-4a94-808b-aaaaa30aa8fe",
   "metadata": {},
   "outputs": [
    {
     "data": {
      "text/plain": [
       "{'max_amount': 500, '_valid_deposit': 0}"
      ]
     },
     "execution_count": 13,
     "metadata": {},
     "output_type": "execute_result"
    }
   ],
   "source": [
    "new_b.__dict__"
   ]
  },
  {
   "cell_type": "code",
   "execution_count": 14,
   "id": "5dde3f8e-3884-40e7-bd15-399029a0e9f7",
   "metadata": {},
   "outputs": [],
   "source": [
    "class BankAccount:\n",
    "\n",
    "    def __init__(self, max_amount):\n",
    "        self.max_amount = max_amount\n",
    "        self.deposit = 0\n",
    "\n",
    "    def get_deposit(self):\n",
    "        return self._valid_deposit\n",
    "\n",
    "    def set_deposit(self, value):\n",
    "        if not isinstance(value, (float, int)):\n",
    "            raise TypeError(f\"{value} must be int or float\")\n",
    "\n",
    "        if value < 0:\n",
    "            raise ValueError(f\"{value} must be positive\")\n",
    "\n",
    "        if value >  self.max_amount:\n",
    "            raise ValueError(f\"{value} should me less than {self.amount}\")\n",
    "\n",
    "        self._valid_deposit = value\n",
    "\n",
    "    def del_deposit(self):\n",
    "        del self._valid_deposit\n",
    "\n",
    "    deposit = property(fget = get_deposit, fset = set_deposit, fdel = del_deposit)"
   ]
  },
  {
   "cell_type": "code",
   "execution_count": 15,
   "id": "b0afff52-98fe-4e63-887c-d10be31e0147",
   "metadata": {},
   "outputs": [],
   "source": [
    "new_b = BankAccount(500)"
   ]
  },
  {
   "cell_type": "code",
   "execution_count": 16,
   "id": "e5595d13-0287-4517-9eb3-4d5b70213a49",
   "metadata": {},
   "outputs": [
    {
     "data": {
      "text/plain": [
       "{'max_amount': 500, '_valid_deposit': 0}"
      ]
     },
     "execution_count": 16,
     "metadata": {},
     "output_type": "execute_result"
    }
   ],
   "source": [
    "new_b.__dict__"
   ]
  },
  {
   "cell_type": "code",
   "execution_count": 17,
   "id": "4bc0a066-2d08-40fd-b71f-80445a83b903",
   "metadata": {},
   "outputs": [
    {
     "data": {
      "text/plain": [
       "{'max_amount': 500, '_valid_deposit': 0}"
      ]
     },
     "execution_count": 17,
     "metadata": {},
     "output_type": "execute_result"
    }
   ],
   "source": [
    "new_b.__dict__"
   ]
  },
  {
   "cell_type": "code",
   "execution_count": 18,
   "id": "ab5713e3-01aa-4d46-9532-0a28bc89712a",
   "metadata": {},
   "outputs": [],
   "source": [
    "# functions can be defined outside class \n",
    "# but it is a bad practice \n",
    "# here account refer to BankAccount instance and in class definition self refer to the instance\n",
    "\n",
    "def get_deposit(account):\n",
    "    return account._valid_deposit\n",
    "\n",
    "def set_deposit(account, value):\n",
    "    if not isinstance(value, (float, int)):\n",
    "        raise TypeError(f\"{value} must be int or float\")\n",
    "\n",
    "    if value < 0:\n",
    "        raise ValueError(f\"{value} must be positive\")\n",
    "\n",
    "    if value >  account.max_amount:\n",
    "        raise ValueError(f\"{value} should me less than {self.amount}\")\n",
    "\n",
    "    account._valid_deposit = value\n",
    "\n",
    "def del_deposit(account):\n",
    "    del account._valid_deposit"
   ]
  },
  {
   "cell_type": "code",
   "execution_count": 19,
   "id": "2c6526da-9095-49a6-9855-4c63d4aeeb0c",
   "metadata": {},
   "outputs": [],
   "source": [
    "class BankAccount:\n",
    "\n",
    "    def __init__(self, max_amount):\n",
    "        self.max_amount = max_amount\n",
    "        self.deposit = 0\n",
    "        \n",
    "    deposit = property(fget = get_deposit, fset = set_deposit, fdel = del_deposit)"
   ]
  },
  {
   "cell_type": "code",
   "execution_count": 20,
   "id": "513b2b0a-27e2-4396-9d3a-a35bf6e3f992",
   "metadata": {},
   "outputs": [],
   "source": [
    "new_b = BankAccount(500)"
   ]
  },
  {
   "cell_type": "code",
   "execution_count": 21,
   "id": "2adba51e-27d9-4d75-a6a1-9917169a10d0",
   "metadata": {},
   "outputs": [
    {
     "data": {
      "text/plain": [
       "{'max_amount': 500, '_valid_deposit': 0}"
      ]
     },
     "execution_count": 21,
     "metadata": {},
     "output_type": "execute_result"
    }
   ],
   "source": [
    "new_b.__dict__"
   ]
  },
  {
   "cell_type": "code",
   "execution_count": null,
   "id": "c558bfb7-37af-4c1f-9d67-dfc28dfdc88e",
   "metadata": {},
   "outputs": [],
   "source": []
  },
  {
   "cell_type": "code",
   "execution_count": null,
   "id": "422bbd16-1d33-4a40-b230-d142b7423905",
   "metadata": {},
   "outputs": [],
   "source": []
  },
  {
   "cell_type": "code",
   "execution_count": null,
   "id": "f71f61af-41a8-4461-8093-b07f1aa8c50e",
   "metadata": {},
   "outputs": [],
   "source": []
  }
 ],
 "metadata": {
  "kernelspec": {
   "display_name": "Python [conda env:MLenv]",
   "language": "python",
   "name": "conda-env-MLenv-py"
  },
  "language_info": {
   "codemirror_mode": {
    "name": "ipython",
    "version": 3
   },
   "file_extension": ".py",
   "mimetype": "text/x-python",
   "name": "python",
   "nbconvert_exporter": "python",
   "pygments_lexer": "ipython3",
   "version": "3.9.21"
  }
 },
 "nbformat": 4,
 "nbformat_minor": 5
}
