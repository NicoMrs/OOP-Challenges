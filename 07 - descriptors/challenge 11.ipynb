{
 "cells": [
  {
   "cell_type": "markdown",
   "id": "2873cdb6-4ec3-48c4-bee3-97017307189b",
   "metadata": {},
   "source": [
    "# Requirements:\n",
    "- Define a new type called StudentProfile, whose instances should encapsulate the following attributes:\n",
    "  - the student's name\n",
    "  - the student's GRE score (integers between 130 and 340), and\n",
    "  - the student's SAT score (integers between 400 and 1600)\n",
    "- StudentProfile instances should have a customized representation\n",
    "- The score fields should be validated for the correct type and value, i.e. they should be ints that fall in the\n",
    "expected range\n",
    "- If a score field is not specified at instantiation, it must default to the minimum of its respective valid range\n",
    "- Use descriptors with instance-specific storage to implement these validations\n",
    "- As an extra challenge, try to maximize code reuse by writing a single general descriptor"
   ]
  },
  {
   "cell_type": "code",
   "execution_count": 2,
   "id": "3ed79521-9d78-4940-a3c6-237c9a7e64a3",
   "metadata": {},
   "outputs": [],
   "source": [
    "class ValidScore:\n",
    "\n",
    "    def __init__(self, min_score, max_score):\n",
    "        self.min_score = min_score\n",
    "        self.max_score = max_score\n",
    "    \n",
    "    def __set_name__(self, owner, name):\n",
    "        self.name = name\n",
    "        \n",
    "    def __get__(self, instance, owner):\n",
    "        if instance is None:\n",
    "            return self\n",
    "        return instance.__dict__.get(f\"{type(self).__name__}_{self.name}\")\n",
    "\n",
    "    def __set__(self, instance, value):\n",
    "        if not isinstance(value, int):\n",
    "            raise TypeError(f\"{value} must be int\")\n",
    "\n",
    "        if value < self.min_score or value > self.max_score:\n",
    "            raise ValueError(f\"{value} Score must fall between {self.min_score} and {self.max_score}\")\n",
    "\n",
    "        instance.__dict__[f\"{type(self).__name__}_{self.name}\"] = value\n",
    "\n",
    "    def __delete__(self, instance):\n",
    "        del instance.__dict__[f\"{type(self).__name__}_{self.name}\"]\n",
    "\n",
    "\n",
    "class SATScore(ValidScore):\n",
    "\n",
    "    def __init__(self, min_score = 400, max_score = 1600):\n",
    "        super().__init__(min_score, max_score)\n",
    "\n",
    "class GREScore(ValidScore):\n",
    "\n",
    "    def __init__(self, min_score = 130, max_score = 340):\n",
    "        super().__init__(min_score, max_score)"
   ]
  },
  {
   "cell_type": "code",
   "execution_count": 3,
   "id": "fc697d22-b3b7-4d2d-be96-c50be8ddc24c",
   "metadata": {},
   "outputs": [],
   "source": [
    "class StudentProfile:\n",
    "\n",
    "    sat = SATScore()\n",
    "    gre = GREScore()\n",
    "    \n",
    "    def __init__(self, name, sat=sat.min_score, gre=gre.min_score):\n",
    "        self.name = name\n",
    "        self.sat = sat\n",
    "        self.gre = gre\n",
    "\n",
    "    def __repr__(self):\n",
    "        return f\"{type(self).__name__}(name={self.name!r}, sat={self.sat}, gre={self.gre})\""
   ]
  },
  {
   "cell_type": "code",
   "execution_count": 4,
   "id": "56887f2a-75f8-43ad-94f9-444b36439265",
   "metadata": {},
   "outputs": [
    {
     "data": {
      "text/plain": [
       "StudentProfile(name='Andrew', sat=1220, gre=130)"
      ]
     },
     "execution_count": 4,
     "metadata": {},
     "output_type": "execute_result"
    }
   ],
   "source": [
    "sp = StudentProfile(name=\"Andrew\", sat=1220, gre=130)\n",
    "sp"
   ]
  },
  {
   "cell_type": "code",
   "execution_count": 5,
   "id": "c511682f-8a3c-4d9f-a1be-396133c4723a",
   "metadata": {},
   "outputs": [
    {
     "data": {
      "text/plain": [
       "{'name': 'Andrew', 'SATScore_sat': 1220, 'GREScore_gre': 130}"
      ]
     },
     "execution_count": 5,
     "metadata": {},
     "output_type": "execute_result"
    }
   ],
   "source": [
    "sp.__dict__"
   ]
  },
  {
   "cell_type": "code",
   "execution_count": 6,
   "id": "aad8a245-55ec-4980-8552-58425befed16",
   "metadata": {},
   "outputs": [
    {
     "data": {
      "text/plain": [
       "StudentProfile(name='Liza', sat=400, gre=190)"
      ]
     },
     "execution_count": 6,
     "metadata": {},
     "output_type": "execute_result"
    }
   ],
   "source": [
    "sp2 = StudentProfile(\"Liza\", gre=190)\n",
    "sp2"
   ]
  },
  {
   "cell_type": "code",
   "execution_count": 7,
   "id": "1e48b486-253c-469f-a7cb-db2fcf28099d",
   "metadata": {},
   "outputs": [
    {
     "name": "stdout",
     "output_type": "stream",
     "text": [
      "2000 Score must fall between 130 and 340\n"
     ]
    }
   ],
   "source": [
    "try:\n",
    "    sp2.gre = 2000\n",
    "except ValueError as err:\n",
    "    print(err)"
   ]
  },
  {
   "cell_type": "code",
   "execution_count": 8,
   "id": "1ef00e57-8262-4fa0-8c80-e2f0a85c30f8",
   "metadata": {},
   "outputs": [
    {
     "name": "stdout",
     "output_type": "stream",
     "text": [
      "1200.2 must be int\n"
     ]
    }
   ],
   "source": [
    "try:\n",
    "    sp2.gre = 1200.2\n",
    "except TypeError as err:\n",
    "    print(err)"
   ]
  },
  {
   "cell_type": "code",
   "execution_count": null,
   "id": "80e666cd-139b-485f-b6e3-a301e7ce9777",
   "metadata": {},
   "outputs": [],
   "source": []
  },
  {
   "cell_type": "code",
   "execution_count": null,
   "id": "879a8c34-2fa5-40b5-92b6-2c5fa1bfc13e",
   "metadata": {},
   "outputs": [],
   "source": []
  }
 ],
 "metadata": {
  "kernelspec": {
   "display_name": "Python [conda env:MLenv]",
   "language": "python",
   "name": "conda-env-MLenv-py"
  },
  "language_info": {
   "codemirror_mode": {
    "name": "ipython",
    "version": 3
   },
   "file_extension": ".py",
   "mimetype": "text/x-python",
   "name": "python",
   "nbconvert_exporter": "python",
   "pygments_lexer": "ipython3",
   "version": "3.9.21"
  }
 },
 "nbformat": 4,
 "nbformat_minor": 5
}
