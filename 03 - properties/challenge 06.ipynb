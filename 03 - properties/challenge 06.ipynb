{
 "cells": [
  {
   "cell_type": "markdown",
   "id": "8029674e-abd8-4312-bcc2-6ee8ce7118ba",
   "metadata": {},
   "source": [
    "# Requirements:\n",
    "- Define a new type Tablet that takes a single attribute called model at instantiation\n",
    "- The class should only support 3 types of models: lite, pro and max\n",
    "- Each instance will also have base_storage and memory attributes, which will be set automatically depending on the\n",
    "specified model; base_storage doubles at each model increment (i.e. 32 of lite, 128 for max), whereas memory increases\n",
    "by 1 (i.e. 1 for lite, 3 for max)\n",
    "- In addition, the Tablet class should enable users to expand the storage through 2 separate interfaces:\n",
    "    - an add_storage() method, e.g. t1.add_storage(32) should add 32GB to the base_storage of the instance\n",
    "    - direct attribute setter, e.g. t1.storage = 256, should ensure that the overall memory of the device is 256 by\n",
    "    dynamically handling the split between base_storage and added_storage depending on the model\n",
    "- All models should not exceed 1024GB in combined storage\n",
    "- The Tablet type should also reflect the memory and base_storage of the device as a read-only attributes\n",
    "- Tablet instances should have a representation that would make it easy to recreate the instance"
   ]
  },
  {
   "cell_type": "raw",
   "id": "134fef0f-3e4f-40b8-a4a1-f96e3ec02ac2",
   "metadata": {},
   "source": [
    "Example Usage:\n",
    "t1 = Tablet(\"Lite\")\n",
    "t1 # Tablet(model=\"lite\", base_storage=32, added_storage=0, memory=1)\n",
    "\n",
    "Tablet(\"Batman\")\n",
    "ValueError: Unrecognized model\n",
    "\n",
    "t1.add_storage(16)\n",
    "t1 # Tablet(model=\"lite\", base_storage=32, added_storage=16, memory=1)\n",
    "\n",
    "t1.storage\n",
    "48\n",
    "\n",
    "t1.storage = 256\n",
    "t1 # Tablet(model=\"lite\", base_storage=32, added_storage=224, memory=1)\n",
    "\n",
    "t2.storage = 256\n",
    "t2 # Tablet(model=\"pro\", base_storage=64, added_storage=192, memory=2)\n",
    "\n",
    "t1.add_storage(2048)\n",
    "ValueError: Memory cannot exceed 1024\n",
    "\n",
    "t1.memory\n",
    "t1.memory = 1\n",
    "AttributeError: can't set attribute\n",
    "\n",
    "t1.base_storage\n",
    "32\n",
    "t1.base_storage = 64\n",
    "AttributeError: can't set attribute"
   ]
  },
  {
   "cell_type": "code",
   "execution_count": 345,
   "id": "a2e6c180-9351-45ef-89d0-e833f222ee79",
   "metadata": {},
   "outputs": [],
   "source": [
    "from collections import namedtuple\n",
    "BaseSpec = namedtuple(\"BaseSpec\", (\"base_storage\", \"memory\"))\n",
    "\n",
    "class Tablet:\n",
    "    MODELS = { \n",
    "        'lite': BaseSpec(32,1),\n",
    "        'pro': BaseSpec(64,2) , \n",
    "        'max': BaseSpec(128,3), \n",
    "    }\n",
    "\n",
    "    def __init__(self, model):\n",
    "        self.model = model\n",
    "        self.added_storage = 0\n",
    "\n",
    "        self._base_storage = self.MODELS[self.model].base_storage\n",
    "        self._memory = self.MODELS[self.model].memory\n",
    "\n",
    "    @property\n",
    "    def base_storage(self):\n",
    "        return self._base_storage\n",
    "\n",
    "    @property\n",
    "    def memory(self):\n",
    "        return self._memory\n",
    "    \n",
    "    @property\n",
    "    def model(self):\n",
    "        return self._model\n",
    "\n",
    "    @model.setter\n",
    "    def model(self, value):\n",
    "        if value.lower() not in self.MODELS.keys():\n",
    "            raise ValueError('Unrecognized model')\n",
    "        self._model = value.lower()\n",
    "\n",
    "    def __repr__(self):\n",
    "        return f\"{type(self).__name__}(model={self.model!r}, base_storage={self.base_storage}, \" \\\n",
    "               f\"added_storage={self.added_storage}, memory={self.memory})\" \n",
    "\n",
    "    def add_storage(self, value):\n",
    "        self._check_memory_value(value)\n",
    "        self._check_overall_memory(value)\n",
    "        self.added_storage += value\n",
    "\n",
    "    @property\n",
    "    def storage(self):\n",
    "        return sum((self.base_storage, self.added_storage))\n",
    "\n",
    "    @storage.setter\n",
    "    def storage(self, value):\n",
    "        self._check_memory_value(value)\n",
    "        self._check_overall_memory(value)\n",
    "        if value < self.base_storage:\n",
    "            self.added_storage = 0\n",
    "        else:\n",
    "            self.added_storage = value-self.base_storage\n",
    "\n",
    "    def _check_memory_value(self, value):\n",
    "        if not isinstance(value, int) or value<0:\n",
    "            raise ValueError(\"Can't add that storage!\")\n",
    "        \n",
    "    def _check_overall_memory(self, value):\n",
    "        if sum((self.base_storage, self.added_storage, value)) > 1024:\n",
    "            raise ValueError(\"Memory cannot exceed 1024\")\n",
    "\n"
   ]
  },
  {
   "cell_type": "code",
   "execution_count": 347,
   "id": "786cf540-c43a-4324-b366-efa5d02e69ee",
   "metadata": {},
   "outputs": [
    {
     "data": {
      "text/plain": [
       "Tablet(model='lite', base_storage=32, added_storage=0, memory=1)"
      ]
     },
     "execution_count": 347,
     "metadata": {},
     "output_type": "execute_result"
    }
   ],
   "source": [
    "t1 = Tablet(\"Lite\")\n",
    "t1"
   ]
  },
  {
   "cell_type": "code",
   "execution_count": 348,
   "id": "3b3ea1d5-3f01-41ef-a9d8-9e8268b2720d",
   "metadata": {},
   "outputs": [],
   "source": [
    "BaseSpec = namedtuple(\"BaseSpec\", (\"base_storage\", \"memory\"))"
   ]
  },
  {
   "cell_type": "code",
   "execution_count": 355,
   "id": "85b3f161-c0f9-4259-b22d-da0d04bd4f14",
   "metadata": {},
   "outputs": [
    {
     "name": "stdout",
     "output_type": "stream",
     "text": [
      "ValueError: Unrecognized model\n"
     ]
    }
   ],
   "source": [
    "try:\n",
    "    Tablet(\"Batman\")\n",
    "except ValueError as err:\n",
    "    print(f\"ValueError: {err}\")"
   ]
  },
  {
   "cell_type": "code",
   "execution_count": 357,
   "id": "2037ab8c-7ed2-4353-b804-54393d626720",
   "metadata": {},
   "outputs": [
    {
     "data": {
      "text/plain": [
       "Tablet(model='lite', base_storage=32, added_storage=16, memory=1)"
      ]
     },
     "execution_count": 357,
     "metadata": {},
     "output_type": "execute_result"
    }
   ],
   "source": [
    "t1.add_storage(16)\n",
    "t1"
   ]
  },
  {
   "cell_type": "code",
   "execution_count": 359,
   "id": "d18795db-2ed2-4771-96d4-57bbf2eab20c",
   "metadata": {},
   "outputs": [
    {
     "data": {
      "text/plain": [
       "48"
      ]
     },
     "execution_count": 359,
     "metadata": {},
     "output_type": "execute_result"
    }
   ],
   "source": [
    "t1.storage"
   ]
  },
  {
   "cell_type": "code",
   "execution_count": 363,
   "id": "43850d3d-17c7-49da-b1ae-8a48101ac0d9",
   "metadata": {},
   "outputs": [
    {
     "data": {
      "text/plain": [
       "Tablet(model='lite', base_storage=32, added_storage=224, memory=1)"
      ]
     },
     "execution_count": 363,
     "metadata": {},
     "output_type": "execute_result"
    }
   ],
   "source": [
    "t1.storage = 256\n",
    "t1"
   ]
  },
  {
   "cell_type": "code",
   "execution_count": 369,
   "id": "5cb49e38-778e-4d3f-883a-7a1c1ab2626a",
   "metadata": {},
   "outputs": [
    {
     "data": {
      "text/plain": [
       "Tablet(model='pro', base_storage=64, added_storage=192, memory=2)"
      ]
     },
     "execution_count": 369,
     "metadata": {},
     "output_type": "execute_result"
    }
   ],
   "source": [
    "t2 = Tablet('pro')\n",
    "t2.storage = 256\n",
    "t2"
   ]
  },
  {
   "cell_type": "code",
   "execution_count": 373,
   "id": "bdf765f4-97dc-4b79-abfa-a4d36f243829",
   "metadata": {},
   "outputs": [
    {
     "name": "stdout",
     "output_type": "stream",
     "text": [
      "ValueError: Memory cannot exceed 1024\n"
     ]
    }
   ],
   "source": [
    "try:\n",
    "    t1.add_storage(2048)\n",
    "except ValueError as err:\n",
    "    print(f\"ValueError: {err}\")"
   ]
  },
  {
   "cell_type": "code",
   "execution_count": 378,
   "id": "97094259-0170-4677-92e9-c8a5d8dcecd1",
   "metadata": {},
   "outputs": [
    {
     "name": "stdout",
     "output_type": "stream",
     "text": [
      "AttributeError: can't set attribute\n"
     ]
    }
   ],
   "source": [
    "try:\n",
    "    t1.memory = 2\n",
    "except AttributeError as err:\n",
    "    print(f\"AttributeError: {err}\")"
   ]
  },
  {
   "cell_type": "code",
   "execution_count": 382,
   "id": "2f957c5f-0e48-492e-9c01-170a1ef6a4f9",
   "metadata": {},
   "outputs": [
    {
     "name": "stdout",
     "output_type": "stream",
     "text": [
      "AttributeError: can't set attribute\n"
     ]
    }
   ],
   "source": [
    "try:\n",
    "    t1.base_storage = 64\n",
    "except AttributeError as err:\n",
    "    print(f\"AttributeError: {err}\")"
   ]
  },
  {
   "cell_type": "code",
   "execution_count": null,
   "id": "7a584a60-a300-4858-82a1-5d1275d840ee",
   "metadata": {},
   "outputs": [],
   "source": []
  }
 ],
 "metadata": {
  "kernelspec": {
   "display_name": "Python [conda env:MLenv]",
   "language": "python",
   "name": "conda-env-MLenv-py"
  },
  "language_info": {
   "codemirror_mode": {
    "name": "ipython",
    "version": 3
   },
   "file_extension": ".py",
   "mimetype": "text/x-python",
   "name": "python",
   "nbconvert_exporter": "python",
   "pygments_lexer": "ipython3",
   "version": "3.9.21"
  }
 },
 "nbformat": 4,
 "nbformat_minor": 5
}
