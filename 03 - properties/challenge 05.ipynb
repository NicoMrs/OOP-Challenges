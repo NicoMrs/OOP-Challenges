{
 "cells": [
  {
   "cell_type": "markdown",
   "id": "b576c925-734a-4974-8481-62c7c0920a08",
   "metadata": {},
   "source": [
    "## requirements\n",
    "- Define a new type called DNABase which takes a single arg (nucleotide) at initiation\n",
    "- Internally the value specified in the nucleotide arg should be validated and standardized\n",
    "- The class should expose an attribute called base\n",
    "- The class should not expose a nucleotide attribute\n",
    "- The valid bases are: adenine, cytosine, guanine, and thymine\n",
    "- A user should be able to specify either the full name as above, or the first letter, case insensitively\n",
    "- The name exposed under the base attribute should be the full name in lowercase regardless of how it was specified\n",
    "- Invalid or otherwise unrecognized bases should be rejected, whether they are specified at instance creation or\n",
    "later altered through attribute setters\n",
    "- The new type should have a full representation"
   ]
  },
  {
   "cell_type": "code",
   "execution_count": 2,
   "id": "262c8c92-08af-4c35-8a2e-7e53ded91ba4",
   "metadata": {},
   "outputs": [],
   "source": [
    "class DNABase:\n",
    "    VALID_BASES = {\n",
    "        'a':'adenine',\n",
    "        'c':'cytosine',\n",
    "        'g':'guanine',\n",
    "        't':'thymine'\n",
    "    }\n",
    "\n",
    "    def __init__(self, nucleotide):\n",
    "        self.base = nucleotide\n",
    "\n",
    "    def __repr__(self):\n",
    "        cls_name = type(self).__name__\n",
    "        return f'{cls_name}(nucleotide={self.base!r})'\n",
    "\n",
    "    @property\n",
    "    def base(self):\n",
    "        return self._base\n",
    "\n",
    "    @base.setter\n",
    "    def base(self, value):\n",
    "        if value.lower() in self.VALID_BASES.keys():\n",
    "            self._base = self.VALID_BASES[value.lower()]\n",
    "        elif value.lower() in self.VALID_BASES.values():\n",
    "            self._base = value.lower()\n",
    "        else:\n",
    "            raise ValueError(f'{value} is not a recognized DNA nucleotide')"
   ]
  },
  {
   "cell_type": "markdown",
   "id": "38947103-e68f-49d6-9c77-a93f4b6688c4",
   "metadata": {},
   "source": [
    "#### Example Usage"
   ]
  },
  {
   "cell_type": "code",
   "execution_count": 4,
   "id": "a2d7ca37-1045-4cd6-b280-691aafcb380a",
   "metadata": {},
   "outputs": [
    {
     "data": {
      "text/plain": [
       "DNABase(nucleotide='adenine')"
      ]
     },
     "execution_count": 4,
     "metadata": {},
     "output_type": "execute_result"
    }
   ],
   "source": [
    "b1 = DNABase('A')\n",
    "b1"
   ]
  },
  {
   "cell_type": "code",
   "execution_count": 5,
   "id": "9d53a150-8e5d-431e-869f-9249e3b669ec",
   "metadata": {},
   "outputs": [
    {
     "ename": "AttributeError",
     "evalue": "'DNABase' object has no attribute 'nucleotide'",
     "output_type": "error",
     "traceback": [
      "\u001b[1;31m---------------------------------------------------------------------------\u001b[0m",
      "\u001b[1;31mAttributeError\u001b[0m                            Traceback (most recent call last)",
      "Cell \u001b[1;32mIn[5], line 1\u001b[0m\n\u001b[1;32m----> 1\u001b[0m \u001b[43mb1\u001b[49m\u001b[38;5;241;43m.\u001b[39;49m\u001b[43mnucleotide\u001b[49m\n",
      "\u001b[1;31mAttributeError\u001b[0m: 'DNABase' object has no attribute 'nucleotide'"
     ]
    }
   ],
   "source": [
    "b1.nucleotide"
   ]
  },
  {
   "cell_type": "code",
   "execution_count": null,
   "id": "95a870b6-688c-4b05-ab66-78f8c4d3cfa1",
   "metadata": {},
   "outputs": [],
   "source": [
    "b1.base = 'c'\n",
    "b1"
   ]
  },
  {
   "cell_type": "code",
   "execution_count": null,
   "id": "9a8519b3-9007-46c4-a704-7e378a9b625e",
   "metadata": {},
   "outputs": [],
   "source": [
    "b1.base = \"Aoli\""
   ]
  },
  {
   "cell_type": "code",
   "execution_count": null,
   "id": "156b1a37-e449-4d50-b3c2-97ccd4752c0f",
   "metadata": {},
   "outputs": [],
   "source": [
    "DNABase(\"aol\")"
   ]
  },
  {
   "cell_type": "code",
   "execution_count": null,
   "id": "442e0a3d-ebbe-470e-bfe2-cbd6cabdcd37",
   "metadata": {},
   "outputs": [],
   "source": [
    "b1.base = \"thYMIne\"\n",
    "b1"
   ]
  }
 ],
 "metadata": {
  "kernelspec": {
   "display_name": "Python [conda env:MLenv]",
   "language": "python",
   "name": "conda-env-MLenv-py"
  },
  "language_info": {
   "codemirror_mode": {
    "name": "ipython",
    "version": 3
   },
   "file_extension": ".py",
   "mimetype": "text/x-python",
   "name": "python",
   "nbconvert_exporter": "python",
   "pygments_lexer": "ipython3",
   "version": "3.9.21"
  }
 },
 "nbformat": 4,
 "nbformat_minor": 5
}
