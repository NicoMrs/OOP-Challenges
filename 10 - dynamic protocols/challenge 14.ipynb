{
 "cells": [
  {
   "cell_type": "markdown",
   "id": "e2e85349-15c0-4f6d-8da4-f5488fe98f5b",
   "metadata": {},
   "source": [
    "# Requirements:\n",
    "- Define two new types: PlayingCard and CardDeck; # https://en.wikipedia.org/wiki/Standard_52-card_deck\n",
    "- PlayingCard instances should support two instance attributes: suit and rank. The specified attributes should be\n",
    "standardized to lowercase, but not otherwise validated. Equality and a good string representation should be supported.\n",
    "- CardDeck will represent the traditional deck of 52 cards:\n",
    "    - 4 suits ('spades', 'diamonds', 'clubs', 'hearts') * 13 ranks (2 through 10, inclusive, Ace, Jack, King, Queen)\n",
    "- CardDeck should be a pythonic sequence supporting the following functionality:\n",
    "  - membership testing with 'in' keyword (returns bool)\n",
    "  - square bracket indexing with ints (PlayingCard instances should be returned)\n",
    "  - slicing with slice objects (CardDeck should be returned)\n",
    "  - iteration in for loops\n",
    "  - concatenation through '+' operator, supported between two instances of CardDeck, or PlayingCard & CardDeck\n",
    "  - concatenation/extension through '*' operator, supported between an instance of CardDeck and int\n",
    "  - both of the above concatenation operations should be commutative\n",
    "- If instantiated with no args, CardDeck should generate a full deck of 52 cards. If instantiated with a python list\n",
    "of at least one PlayingCard, CardDeck should reflect only the list of cards passed to it at instantiation. If a python\n",
    "list containing no valid PlayingCard instances, the default full deck of 52 cards should be generated.\n",
    "- Finally, CardDeck should support a draw(n=1) method that randomly selects a card from a given deck and returns it\n",
    "without replacement, i.e. the number of cards remaining in the deck decreases by 1\n",
    "- If a user draws more than 1 card at a time, e.g. draw(n=3), a CardDeck type should be returned; if only one card\n",
    "is drawn, a PlayingCard type should be returned."
   ]
  },
  {
   "cell_type": "code",
   "execution_count": 2,
   "id": "a8d9edb6-e767-4c86-a92b-3e7eb3d43c8c",
   "metadata": {},
   "outputs": [],
   "source": [
    "class PlayingCard:\n",
    "\n",
    "    def __init__(self, suits, rank):\n",
    "        self.suit = suits.lower()\n",
    "        self.rank = rank.lower()\n",
    "\n",
    "    def __eq__(self, other):\n",
    "        if not isinstance(other, type(self)):\n",
    "            raise NotImplementedError(f\"{other} must be of type self\")\n",
    "        return self.suit == other.suit and self.rank == other.rank\n",
    "\n",
    "    def __repr__(self):\n",
    "        return f\"{type(self).__name__}(suit={self.suit!r}, rank={self.rank!r})\""
   ]
  },
  {
   "cell_type": "code",
   "execution_count": 3,
   "id": "12506c9c-54ff-4e94-8898-b80a00aefca2",
   "metadata": {},
   "outputs": [],
   "source": [
    "# leaner object representation by limiting number of object in the console\n",
    "import reprlib\n",
    "deque_repr = reprlib.Repr()\n",
    "deque_repr.maxother = 50\n",
    "deque_repr.maxlist = 3   \n",
    "\n",
    "import random\n",
    "\n",
    "class CardDeck:\n",
    "\n",
    "    SUITS = ('spades', 'diamonds', 'clubs', 'hearts')\n",
    "    RANK = list('23456789') + ['10'] + list('ajkq')\n",
    "\n",
    "    def __init__(self, cards=[]):\n",
    "        self.cards=cards\n",
    "\n",
    "    @property\n",
    "    def cards(self):\n",
    "        return self._cards\n",
    "\n",
    "    @cards.setter\n",
    "    def cards(self, value):\n",
    "        self._cards = [card for card in value if isinstance(card, PlayingCard)]\n",
    "        if not self._cards:\n",
    "            self._cards = self._generate_full_deck()\n",
    "\n",
    "    def __repr__(self):\n",
    "        return f\"{type(self).__name__}(cards={deque_repr.repr(self.cards)})\"\n",
    "\n",
    "    def __len__(self):\n",
    "        return len(self.cards)\n",
    "\n",
    "    def __getitem__(self, i):\n",
    "        if type(i) == slice:\n",
    "            return type(self)(self._cards[i]) # generate CardDeck Object\n",
    "        return self._cards[i]\n",
    "\n",
    "    def __contains__(self, value):\n",
    "        if not isinstance(value, PlayingCard):\n",
    "            raise NotImplementedError(f\"{value} must be of type PlayingCard\")\n",
    "        return value in self._cards\n",
    "\n",
    "    def __add__(self, other):\n",
    "        if isinstance(other, type(self)):\n",
    "            return type(self)(self._cards + other._cards)\n",
    "        elif isinstance(other, PlayingCard):\n",
    "            return type(self)(self._cards + [other])\n",
    "        else:\n",
    "            raise NotImplementedError(f\"{other} must be of type self or PlayingCard\") # return new CardDeck object\n",
    "\n",
    "    def __radd__(self, other):\n",
    "        return self.__add__(other)\n",
    "\n",
    "    def __mul__(self, other):\n",
    "        if not isinstance(other, int):\n",
    "            raise NotImplementedError(f\"{other} must be of type int\")\n",
    "        deque = []\n",
    "        for card in self._cards:\n",
    "            deque.extend([card for _ in range(other)])\n",
    "        return type(self)(deque)\n",
    "\n",
    "    def __rmul__(self, other):\n",
    "        return self.__mul__(other)\n",
    "\n",
    "    def __iter__(self):\n",
    "        return (card for card in self._cards) # return a generator expression\n",
    "            \n",
    "    def _generate_full_deck(self):\n",
    "        deck = [PlayingCard(suit, rank) for suit in self.SUITS for rank in self.RANK]\n",
    "        return deck\n",
    "\n",
    "    def _draw_one(self):\n",
    "        return self._cards.pop(random.randint(0, len(self)))\n",
    "\n",
    "    def draw(self, n=None):\n",
    "        if not n:\n",
    "            return self._draw_one()\n",
    "        return type(self)([self._draw_one() for _ in range(n)])"
   ]
  },
  {
   "cell_type": "code",
   "execution_count": 4,
   "id": "5aa86a73-18be-4ae9-ba97-cf64189bce77",
   "metadata": {},
   "outputs": [
    {
     "data": {
      "text/plain": [
       "CardDeck(cards=[PlayingCard(suit='spades', rank='2'), PlayingCard(suit='spades', rank='3'), PlayingCard(suit='spades', rank='4'), ...])"
      ]
     },
     "execution_count": 4,
     "metadata": {},
     "output_type": "execute_result"
    }
   ],
   "source": [
    "cd = CardDeck()\n",
    "cd"
   ]
  },
  {
   "cell_type": "code",
   "execution_count": 5,
   "id": "ef24ab5c-3d63-4cf8-8c10-d32c94983e4a",
   "metadata": {},
   "outputs": [],
   "source": [
    "cd2 = CardDeck(cards=[PlayingCard('diamonds', '2')])\n",
    "cd3 = CardDeck(cards=[\"Andrew\", PlayingCard('clubs', '7')])\n",
    "cd4 = CardDeck(cards=[\"Andrew\", \"Lisa\"])"
   ]
  },
  {
   "cell_type": "code",
   "execution_count": 6,
   "id": "fa499d5a-f4f3-4639-bfda-0566df50373f",
   "metadata": {},
   "outputs": [
    {
     "data": {
      "text/plain": [
       "(52, 1, 1, 52)"
      ]
     },
     "execution_count": 6,
     "metadata": {},
     "output_type": "execute_result"
    }
   ],
   "source": [
    "len(cd), len(cd2), len(cd3), len(cd4)"
   ]
  },
  {
   "cell_type": "code",
   "execution_count": 7,
   "id": "e70dc23e-9d9f-4021-af4a-a8e42f738478",
   "metadata": {},
   "outputs": [
    {
     "data": {
      "text/plain": [
       "PlayingCard(suit='spades', rank='3')"
      ]
     },
     "execution_count": 7,
     "metadata": {},
     "output_type": "execute_result"
    }
   ],
   "source": [
    "cd[1]"
   ]
  },
  {
   "cell_type": "code",
   "execution_count": 8,
   "id": "ae014db5-aeb9-4c52-84b7-7be9f288b4ed",
   "metadata": {},
   "outputs": [
    {
     "data": {
      "text/plain": [
       "CardDeck(cards=[PlayingCard(suit='hearts', rank='5'), PlayingCard(suit='hearts', rank='6'), PlayingCard(suit='hearts', rank='7'), ...])"
      ]
     },
     "execution_count": 8,
     "metadata": {},
     "output_type": "execute_result"
    }
   ],
   "source": [
    "cd[-10:]"
   ]
  },
  {
   "cell_type": "code",
   "execution_count": 9,
   "id": "4010ab61-cf89-4cab-ace2-9b2cf37e11ca",
   "metadata": {},
   "outputs": [
    {
     "data": {
      "text/plain": [
       "True"
      ]
     },
     "execution_count": 9,
     "metadata": {},
     "output_type": "execute_result"
    }
   ],
   "source": [
    "PlayingCard('spADes', 'J') in cd"
   ]
  },
  {
   "cell_type": "code",
   "execution_count": 10,
   "id": "f1a1a792-cc24-4629-8837-d1dab4696633",
   "metadata": {},
   "outputs": [
    {
     "data": {
      "text/plain": [
       "CardDeck(cards=[PlayingCard(suit='diamonds', rank='2'), PlayingCard(suit='clubs', rank='7')])"
      ]
     },
     "execution_count": 10,
     "metadata": {},
     "output_type": "execute_result"
    }
   ],
   "source": [
    "cd2 + cd3"
   ]
  },
  {
   "cell_type": "code",
   "execution_count": 11,
   "id": "05d0563f-359b-45f2-a334-c99b2b113c8d",
   "metadata": {},
   "outputs": [
    {
     "data": {
      "text/plain": [
       "CardDeck(cards=[PlayingCard(suit='diamonds', rank='2'), PlayingCard(suit='spades', rank='6')])"
      ]
     },
     "execution_count": 11,
     "metadata": {},
     "output_type": "execute_result"
    }
   ],
   "source": [
    "cd2 + PlayingCard('spades', '6')"
   ]
  },
  {
   "cell_type": "code",
   "execution_count": 12,
   "id": "73204988-a99d-4e49-9843-87e8e1e8af37",
   "metadata": {},
   "outputs": [
    {
     "data": {
      "text/plain": [
       "CardDeck(cards=[PlayingCard(suit='clubs', rank='7'), PlayingCard(suit='spades', rank='6')])"
      ]
     },
     "execution_count": 12,
     "metadata": {},
     "output_type": "execute_result"
    }
   ],
   "source": [
    "PlayingCard('spades', '6') + cd3"
   ]
  },
  {
   "cell_type": "code",
   "execution_count": 13,
   "id": "077a116a-0819-43fb-87fe-2a3aa249dde0",
   "metadata": {},
   "outputs": [
    {
     "data": {
      "text/plain": [
       "CardDeck(cards=[PlayingCard(suit='diamonds', rank='2'), PlayingCard(suit='diamonds', rank='2'), PlayingCard(suit='diamonds', rank='2')])"
      ]
     },
     "execution_count": 13,
     "metadata": {},
     "output_type": "execute_result"
    }
   ],
   "source": [
    "cd2*3"
   ]
  },
  {
   "cell_type": "code",
   "execution_count": 14,
   "id": "3cf502f2-0059-43e7-a429-5a9b0707d3a4",
   "metadata": {},
   "outputs": [
    {
     "data": {
      "text/plain": [
       "CardDeck(cards=[PlayingCard(suit='diamonds', rank='2'), PlayingCard(suit='diamonds', rank='2'), PlayingCard(suit='diamonds', rank='2')])"
      ]
     },
     "execution_count": 14,
     "metadata": {},
     "output_type": "execute_result"
    }
   ],
   "source": [
    "3*cd2"
   ]
  },
  {
   "cell_type": "code",
   "execution_count": 15,
   "id": "8ba984a6-fd3f-48a6-a975-b9f8345c6211",
   "metadata": {},
   "outputs": [
    {
     "name": "stdout",
     "output_type": "stream",
     "text": [
      "PlayingCard(suit='diamonds', rank='2')\n",
      "PlayingCard(suit='diamonds', rank='2')\n",
      "PlayingCard(suit='diamonds', rank='2')\n"
     ]
    }
   ],
   "source": [
    "for card in 3 * cd2:\n",
    "    print(card)"
   ]
  },
  {
   "cell_type": "code",
   "execution_count": 16,
   "id": "7bbabcfd-3610-4b0d-a8b6-2465221ab01a",
   "metadata": {},
   "outputs": [
    {
     "name": "stdout",
     "output_type": "stream",
     "text": [
      "PlayingCard(suit='diamonds', rank='2')\n",
      "PlayingCard(suit='diamonds', rank='2')\n"
     ]
    }
   ],
   "source": [
    "gen = iter(3 * cd2)\n",
    "print(next(gen))\n",
    "print(next(gen))"
   ]
  },
  {
   "cell_type": "code",
   "execution_count": 17,
   "id": "28e74d1c-2b92-46d3-9cb4-c242839d3d15",
   "metadata": {},
   "outputs": [
    {
     "data": {
      "text/plain": [
       "CardDeck(cards=[PlayingCard(suit='diamonds', rank='2')])"
      ]
     },
     "execution_count": 17,
     "metadata": {},
     "output_type": "execute_result"
    }
   ],
   "source": [
    "cd2"
   ]
  },
  {
   "cell_type": "code",
   "execution_count": 18,
   "id": "8cfa2d75-6ba9-428f-9cd7-b15179733acc",
   "metadata": {},
   "outputs": [
    {
     "data": {
      "text/plain": [
       "52"
      ]
     },
     "execution_count": 18,
     "metadata": {},
     "output_type": "execute_result"
    }
   ],
   "source": [
    "len(cd)"
   ]
  },
  {
   "cell_type": "code",
   "execution_count": 19,
   "id": "e949284b-46ff-4a45-8166-7f621f1f9b5d",
   "metadata": {},
   "outputs": [
    {
     "data": {
      "text/plain": [
       "PlayingCard(suit='clubs', rank='a')"
      ]
     },
     "execution_count": 19,
     "metadata": {},
     "output_type": "execute_result"
    }
   ],
   "source": [
    "cd.draw()"
   ]
  },
  {
   "cell_type": "code",
   "execution_count": 20,
   "id": "8f786502-a029-4bfb-b3e7-72840fd45fae",
   "metadata": {},
   "outputs": [
    {
     "data": {
      "text/plain": [
       "51"
      ]
     },
     "execution_count": 20,
     "metadata": {},
     "output_type": "execute_result"
    }
   ],
   "source": [
    "len(cd)"
   ]
  },
  {
   "cell_type": "code",
   "execution_count": 21,
   "id": "315c8d81-23eb-454e-833e-9fffc99050ae",
   "metadata": {},
   "outputs": [
    {
     "name": "stdout",
     "output_type": "stream",
     "text": [
      "51\n",
      "CardDeck(cards=[PlayingCard(suit='spades', rank='9'), PlayingCard(suit='spades', rank='6'), PlayingCard(suit='hearts', rank='j'), ...])\n",
      "<class '__main__.CardDeck'>\n",
      "43\n"
     ]
    }
   ],
   "source": [
    "print(len(cd))\n",
    "print(cd.draw(4))\n",
    "print(type(cd.draw(4)))\n",
    "print(len(cd))"
   ]
  },
  {
   "cell_type": "code",
   "execution_count": 22,
   "id": "4161afa7-34d2-4b3b-bc5a-fdbb3730e90f",
   "metadata": {},
   "outputs": [
    {
     "data": {
      "text/plain": [
       "True"
      ]
     },
     "execution_count": 22,
     "metadata": {},
     "output_type": "execute_result"
    }
   ],
   "source": [
    "PlayingCard('spADes', '6') == PlayingCard('spades', '6')"
   ]
  }
 ],
 "metadata": {
  "kernelspec": {
   "display_name": "Python [conda env:MLenv]",
   "language": "python",
   "name": "conda-env-MLenv-py"
  },
  "language_info": {
   "codemirror_mode": {
    "name": "ipython",
    "version": 3
   },
   "file_extension": ".py",
   "mimetype": "text/x-python",
   "name": "python",
   "nbconvert_exporter": "python",
   "pygments_lexer": "ipython3",
   "version": "3.9.21"
  }
 },
 "nbformat": 4,
 "nbformat_minor": 5
}
