{
 "cells": [
  {
   "cell_type": "markdown",
   "id": "ced6d4d6-4def-44b2-b313-f41a2f8435d4",
   "metadata": {},
   "source": [
    "## Requirements\n",
    "\n",
    "- Define a new type called Vector that stores 3 instance attributes: x, y, z\n",
    "- Users should be able to create new instances as Vector(x=1, y=2, z=3), where the coordinates are positional args\n",
    "with no defaults\n",
    "- Instances of this new Vector type should have a representation that would help the user reconstruct the instance\n",
    "- The magnitude of the vector should be accessible through a method, ideally a built-in\n",
    "    hint: the magnitude is calculated as sqrt of sum of squared coordinates\n",
    "    hint2: as far as built-ins are concerned, __len__ will not work; try to target abs()?\n",
    "- Users should be able to add two vectors to get a third, e.g. Vector(1, 2, 3) + Vector(4, 5, 6) -> Vector(5, 7, 9)\n",
    "- Users should be able to numerically scale a vector, e.g. Vector(1, 2, 3) * 2 = Vector(2, 4, 6)\n",
    "- The scalar multiplication operation should work the same regardless of the order of operands, e.g. Vector(1, 2, 3) * 2 =\n",
    "2 * Vector(1, 2, 3)\n",
    "- All comparison operators should be supported\n",
    "- Vector should be hashable\n",
    "- A Vector instance should evaluate to False if and only if its magnitude is zero\n",
    "- Lastly, the Vector class should let the user select coordinates using square brackets too, e.g.\n",
    "if v1 = Vector(1, 2, 3) then v1['y'] or v1['Y'] should return 2"
   ]
  },
  {
   "cell_type": "code",
   "execution_count": 2,
   "id": "b14f24a7-18f6-4fa4-b6b9-934314376513",
   "metadata": {},
   "outputs": [],
   "source": [
    "from math import sqrt\n",
    "# avoid implementing 6 rich comparison operators, eq and one of lt, les, gt, etc. is enough\n",
    "from functools import total_ordering \n",
    "\n",
    "@total_ordering\n",
    "class Vector:\n",
    "\n",
    "    def __init__(self, x, y, z):\n",
    "        self.x = float(x)\n",
    "        self.y = float(y)\n",
    "        self.z = float(z)\n",
    "\n",
    "    def __repr__(self):\n",
    "        cls_name = type(self).__name__\n",
    "        return \"{}(x={}, y={}, z={})\".format(cls_name, *self) # unpacking made possible by __iter__\n",
    "\n",
    "    def __iter__(self):\n",
    "        return (i for i in (self.x, self.y, self.z))\n",
    "\n",
    "    def __abs__(self):\n",
    "        return sqrt(self.x**2+self.y**2+self.z**2) # not __len__because it must return an int\n",
    "\n",
    "    def __add__(self, other):\n",
    "        if not isinstance(other, type(self)):\n",
    "            raise TypeError(f\"{other} must be of type {type(self)}.\")\n",
    "\n",
    "        # return a new vector object\n",
    "        return type(self)(\n",
    "            self.x+other.x, \n",
    "            self.y+other.y, \n",
    "            self.z+other.z)\n",
    "\n",
    "    def __radd__(self, other):\n",
    "        return other.add(self)\n",
    "\n",
    "    def __mul__(self, other):\n",
    "        if not isinstance(other, (float, int)):\n",
    "            raise TypeError(f\"{other} must be of type float or int.\")\n",
    "\n",
    "        return type(self)(other*self.x, \n",
    "                          other*self.y, \n",
    "                          other*self.z)\n",
    "\n",
    "    def __rmul__(self, other):\n",
    "        return self.__mul__(other)\n",
    "\n",
    "    def __eq__(self, other):\n",
    "        if not isinstance(other, type(self)):\n",
    "            raise TypeError(f\"{other} must be of type {type(self)}.\")\n",
    "            \n",
    "        return self.x == other.x and self.y == other.y and self.z == other.z\n",
    "\n",
    "    def __lt__(self, other):\n",
    "        if not isinstance(other, type(self)):\n",
    "            raise TypeError(f\"{other} must be of type {type(self)}.\")\n",
    "        return abs(self) < abs(other)\n",
    "\n",
    "    def __bool__(self):\n",
    "        return bool(abs(self))\n",
    "\n",
    "    def __getitem__(self, item):\n",
    "        dictgetter = {\n",
    "            'x': self.x,\n",
    "            'y': self.y, \n",
    "            'z': self.z\n",
    "        }\n",
    "        \n",
    "        if item.lower() not in dictgetter.keys():\n",
    "            raise NotImplementedError(f\"{item} must be in {dictgetter.keys()}\")\n",
    "\n",
    "        return dictgetter[item.lower()]\n",
    "\n",
    "    def __hash__(self):\n",
    "        return hash( (self.x, self.y, self.z) )\n"
   ]
  },
  {
   "cell_type": "code",
   "execution_count": 3,
   "id": "dd8f8807-9d66-4257-9f15-f2c634d7557c",
   "metadata": {},
   "outputs": [
    {
     "data": {
      "text/plain": [
       "Vector(x=2.0, y=1.0, z=2.0)"
      ]
     },
     "execution_count": 3,
     "metadata": {},
     "output_type": "execute_result"
    }
   ],
   "source": [
    "v1 = Vector(2,1,2)\n",
    "v2 = eval(v1.__repr__())\n",
    "v2"
   ]
  },
  {
   "cell_type": "code",
   "execution_count": 4,
   "id": "9f0164ae-a88d-48fb-ac66-1028aabc2016",
   "metadata": {},
   "outputs": [],
   "source": [
    "x, y, z = v1 # __iter__ make unpacking of Vector object possible"
   ]
  },
  {
   "cell_type": "code",
   "execution_count": 5,
   "id": "b382b5a5-b00a-4123-8a8f-45aa8633b29a",
   "metadata": {},
   "outputs": [],
   "source": [
    "v1 = Vector(1, 2, 3)\n",
    "v2 = Vector(2, 3, 6)\n",
    "v3 = Vector(0, 0, 0)"
   ]
  },
  {
   "cell_type": "code",
   "execution_count": 6,
   "id": "11a453cf-2ab3-411e-877f-fbccb3355234",
   "metadata": {},
   "outputs": [
    {
     "data": {
      "text/plain": [
       "Vector(x=3.0, y=5.0, z=9.0)"
      ]
     },
     "execution_count": 6,
     "metadata": {},
     "output_type": "execute_result"
    }
   ],
   "source": [
    "v1 + v2"
   ]
  },
  {
   "cell_type": "code",
   "execution_count": 7,
   "id": "41c5ab53-ef0d-4d87-b466-e94de3e011fb",
   "metadata": {},
   "outputs": [
    {
     "data": {
      "text/plain": [
       "True"
      ]
     },
     "execution_count": 7,
     "metadata": {},
     "output_type": "execute_result"
    }
   ],
   "source": [
    "bool(v1)"
   ]
  },
  {
   "cell_type": "code",
   "execution_count": 8,
   "id": "67a57c87-4932-4453-b573-9c4c232940df",
   "metadata": {},
   "outputs": [
    {
     "data": {
      "text/plain": [
       "True"
      ]
     },
     "execution_count": 8,
     "metadata": {},
     "output_type": "execute_result"
    }
   ],
   "source": [
    "v2 * 2 == Vector(4, 6, 12)"
   ]
  },
  {
   "cell_type": "code",
   "execution_count": 9,
   "id": "858930ea-5426-46ac-8f68-d4b0b8e1ea3d",
   "metadata": {},
   "outputs": [
    {
     "data": {
      "text/plain": [
       "True"
      ]
     },
     "execution_count": 9,
     "metadata": {},
     "output_type": "execute_result"
    }
   ],
   "source": [
    "2 * v2 == Vector(4, 6, 12)"
   ]
  },
  {
   "cell_type": "code",
   "execution_count": 10,
   "id": "37ba299d-618d-4490-a8d9-a5d2a09b4ecf",
   "metadata": {},
   "outputs": [
    {
     "data": {
      "text/plain": [
       "True"
      ]
     },
     "execution_count": 10,
     "metadata": {},
     "output_type": "execute_result"
    }
   ],
   "source": [
    "v1 == eval(repr(v1))"
   ]
  },
  {
   "cell_type": "code",
   "execution_count": 11,
   "id": "001a1104-eaa5-452f-b0ae-8283eb0e107d",
   "metadata": {},
   "outputs": [
    {
     "data": {
      "text/plain": [
       "True"
      ]
     },
     "execution_count": 11,
     "metadata": {},
     "output_type": "execute_result"
    }
   ],
   "source": [
    "v1 <= v2"
   ]
  },
  {
   "cell_type": "code",
   "execution_count": 12,
   "id": "e86176cd-783e-43e0-9081-e55932a7209c",
   "metadata": {},
   "outputs": [
    {
     "data": {
      "text/plain": [
       "False"
      ]
     },
     "execution_count": 12,
     "metadata": {},
     "output_type": "execute_result"
    }
   ],
   "source": [
    "v1 > v2"
   ]
  },
  {
   "cell_type": "code",
   "execution_count": 13,
   "id": "c98d27e0-250d-49d1-be68-ca8d6c41f5d1",
   "metadata": {},
   "outputs": [
    {
     "data": {
      "text/plain": [
       "1.0"
      ]
     },
     "execution_count": 13,
     "metadata": {},
     "output_type": "execute_result"
    }
   ],
   "source": [
    "v1['X']"
   ]
  },
  {
   "cell_type": "code",
   "execution_count": 14,
   "id": "6e2bd0fb-cba1-4c8f-adc9-80eef1c4dd13",
   "metadata": {},
   "outputs": [
    {
     "data": {
      "text/plain": [
       "529344067295497451"
      ]
     },
     "execution_count": 14,
     "metadata": {},
     "output_type": "execute_result"
    }
   ],
   "source": [
    "hash(v1)"
   ]
  },
  {
   "cell_type": "code",
   "execution_count": 15,
   "id": "b07da82d-aaa0-4c74-8e92-fd250a265579",
   "metadata": {},
   "outputs": [
    {
     "name": "stdout",
     "output_type": "stream",
     "text": [
      "lolita must be in dict_keys(['x', 'y', 'z'])\n"
     ]
    }
   ],
   "source": [
    "try:\n",
    "    v1['lolita']\n",
    "except NotImplementedError as error:\n",
    "    print(error)"
   ]
  }
 ],
 "metadata": {
  "kernelspec": {
   "display_name": "Python [conda env:MLenv]",
   "language": "python",
   "name": "conda-env-MLenv-py"
  },
  "language_info": {
   "codemirror_mode": {
    "name": "ipython",
    "version": 3
   },
   "file_extension": ".py",
   "mimetype": "text/x-python",
   "name": "python",
   "nbconvert_exporter": "python",
   "pygments_lexer": "ipython3",
   "version": "3.9.21"
  }
 },
 "nbformat": 4,
 "nbformat_minor": 5
}
