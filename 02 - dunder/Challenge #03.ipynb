{
 "cells": [
  {
   "cell_type": "markdown",
   "id": "275da55a-c5e4-441c-946a-6cfec871220d",
   "metadata": {},
   "source": [
    "## Requirements:\n",
    "- Define a new type called Contact, which should store a person's name, last name, phone, email, as well as an\n",
    "instance attribute called display_mode, which defaults to \"masked\"\n",
    "- Should be able to create instances using name and last name only\n",
    "- Two instances should be considered equal if any of the following conditions are met:\n",
    "    - name, last name, phone and email are the same, or\n",
    "    - phone or email are the same\n",
    "- The instance representation should return obfuscated name and last name attributes when display_mode is set to \"masked\"\n",
    "and the regular full representation including all attributes otherwise\n",
    "- The str() representation on the other hand should always return the first letter of the last name followed by the\n",
    "first letter of the first name\n",
    "- A user should be able to format a masked instance's string representation so as to reveal all the attributes\n"
   ]
  },
  {
   "cell_type": "code",
   "execution_count": 2,
   "id": "d1a56acc-12fe-4b43-8803-807ed25b2b60",
   "metadata": {},
   "outputs": [],
   "source": [
    "import random\n",
    "\n",
    "class Contact:\n",
    "\n",
    "    def __init__(self, name, lastname, phone = None, email = None, display_mode = \"masked\"):\n",
    "        self.name = name\n",
    "        self.lastname = lastname\n",
    "        self.phone = phone\n",
    "        self.email = email\n",
    "        self.display_mode = display_mode\n",
    "\n",
    "    def __eq__(self, other):\n",
    "\n",
    "        if not isinstance(other, type(self)):\n",
    "            raise TypeError(f\"{other} must be of type {type(self)}\")\n",
    "        \n",
    "        condition1 = (self.phone == other.phone)\n",
    "        condition2 = (self.email == other.email)\n",
    "        condition3 = (self.name == other.name and self.lastname == other.lastname)\n",
    "        \n",
    "        return condition1 or \\\n",
    "                    condition2 or \\\n",
    "                        (condition1 and condition2 and condition3)\n",
    "\n",
    "    def __str__(self):\n",
    "        first_maj = lambda x : x[0].upper()\n",
    "        return f\"{first_maj(self.lastname)}{first_maj(self.name)}\"\n",
    "        \n",
    "    def __repr__(self):\n",
    "        return self.__format__(self.display_mode)\n",
    "    \n",
    "    def _obfuscate(self):\n",
    "        return self.obfuscate(self.name), self.obfuscate(self.lastname)\n",
    "\n",
    "    @staticmethod\n",
    "    def obfuscate(name):\n",
    "        \"\"\" obfuscate random number of letter \"\"\"\n",
    "        n = len(name)\n",
    "        i = random.randint(1, n-1)\n",
    "        return name[:n-i]+'*'*i\n",
    "\n",
    "    \n",
    "    def __format__(self, spec):\n",
    "        class_name = type(self).__name__\n",
    "        if spec == \"masked\":\n",
    "            return \"{}(name='{}', lastname='{}')\".format(class_name, *self._obfuscate())\n",
    "    \n",
    "        return \"{}(name='{}', lastname='{}', phone='{}', email='{}')\".format(class_name, \n",
    "                                                                             self.name, \n",
    "                                                                             self.lastname,\n",
    "                                                                             self.phone, \n",
    "                                                                             self.email)"
   ]
  },
  {
   "cell_type": "code",
   "execution_count": 3,
   "id": "bc3c9ab0-6ffa-41fb-a893-168fdc97a949",
   "metadata": {},
   "outputs": [],
   "source": [
    "c1 = Contact(\"Andy\", \"Bek\")\n",
    "c2 = Contact(\"Andy\", \"Bek\", \"647-537-9271\")\n",
    "c3 = Contact(\"Andrew\", \"Bek\", \"647-537-9271\", \"hey@andybek.com\")\n",
    "c4 = Contact(\"Andy\", \"Bek\", \"647-537-9271\", display_mode=\"show\")"
   ]
  },
  {
   "cell_type": "code",
   "execution_count": 4,
   "id": "894f13ad-565c-425e-9ef0-b714d1f68051",
   "metadata": {},
   "outputs": [
    {
     "data": {
      "text/plain": [
       "True"
      ]
     },
     "execution_count": 4,
     "metadata": {},
     "output_type": "execute_result"
    }
   ],
   "source": [
    "c2 == c3"
   ]
  },
  {
   "cell_type": "code",
   "execution_count": 5,
   "id": "3d62bd15-e582-4cc8-9aba-6bc68ed423e6",
   "metadata": {},
   "outputs": [
    {
     "data": {
      "text/plain": [
       "Contact(name='A***', lastname='B**')"
      ]
     },
     "execution_count": 5,
     "metadata": {},
     "output_type": "execute_result"
    }
   ],
   "source": [
    "c1"
   ]
  },
  {
   "cell_type": "code",
   "execution_count": 6,
   "id": "6579c692-8493-4b13-9a4c-6476d4d68079",
   "metadata": {},
   "outputs": [
    {
     "data": {
      "text/plain": [
       "'BA'"
      ]
     },
     "execution_count": 6,
     "metadata": {},
     "output_type": "execute_result"
    }
   ],
   "source": [
    "str(c1)"
   ]
  },
  {
   "cell_type": "code",
   "execution_count": 7,
   "id": "834a0e3b-e51f-4c30-a821-9ce6a913d336",
   "metadata": {},
   "outputs": [
    {
     "data": {
      "text/plain": [
       "\"Contact(name='Andy', lastname='Bek', phone='None', email='None')\""
      ]
     },
     "execution_count": 7,
     "metadata": {},
     "output_type": "execute_result"
    }
   ],
   "source": [
    "\"{c:unmasked}\".format(c=c1)"
   ]
  },
  {
   "cell_type": "code",
   "execution_count": 8,
   "id": "64fb335e-8584-4591-aec0-c0f333378f57",
   "metadata": {},
   "outputs": [
    {
     "data": {
      "text/plain": [
       "\"Contact(name='Andy', lastname='Bek', phone='647-537-9271', email='None')\""
      ]
     },
     "execution_count": 8,
     "metadata": {},
     "output_type": "execute_result"
    }
   ],
   "source": [
    "f\"{c2:unmasked}\""
   ]
  },
  {
   "cell_type": "code",
   "execution_count": 9,
   "id": "d5831b18-0bee-41d6-8d3b-85f256ab7ddb",
   "metadata": {},
   "outputs": [
    {
     "data": {
      "text/plain": [
       "\"Contact(name='Andy', lastname='Bek', phone='647-537-9271', email='None')\""
      ]
     },
     "execution_count": 9,
     "metadata": {},
     "output_type": "execute_result"
    }
   ],
   "source": [
    "format(c2, \"unmasked\")"
   ]
  },
  {
   "cell_type": "code",
   "execution_count": 10,
   "id": "108a5176-fa8d-4c00-8154-2c7d2ec0b805",
   "metadata": {},
   "outputs": [
    {
     "data": {
      "text/plain": [
       "\"Contact(name='And*', lastname='B**')\""
      ]
     },
     "execution_count": 10,
     "metadata": {},
     "output_type": "execute_result"
    }
   ],
   "source": [
    "\"{c:masked}\".format(c=c1)"
   ]
  },
  {
   "cell_type": "code",
   "execution_count": 11,
   "id": "d379af85-2d05-45d8-8d54-2b89c4544142",
   "metadata": {},
   "outputs": [
    {
     "ename": "TypeError",
     "evalue": "Nicolas must be of type <class '__main__.Contact'>",
     "output_type": "error",
     "traceback": [
      "\u001b[1;31m---------------------------------------------------------------------------\u001b[0m",
      "\u001b[1;31mTypeError\u001b[0m                                 Traceback (most recent call last)",
      "Cell \u001b[1;32mIn[11], line 1\u001b[0m\n\u001b[1;32m----> 1\u001b[0m c2 \u001b[38;5;241m==\u001b[39m \u001b[38;5;124m'\u001b[39m\u001b[38;5;124mNicolas\u001b[39m\u001b[38;5;124m'\u001b[39m\n",
      "Cell \u001b[1;32mIn[2], line 15\u001b[0m, in \u001b[0;36mContact.__eq__\u001b[1;34m(self, other)\u001b[0m\n\u001b[0;32m     12\u001b[0m \u001b[38;5;28;01mdef\u001b[39;00m \u001b[38;5;21m__eq__\u001b[39m(\u001b[38;5;28mself\u001b[39m, other):\n\u001b[0;32m     14\u001b[0m     \u001b[38;5;28;01mif\u001b[39;00m \u001b[38;5;129;01mnot\u001b[39;00m \u001b[38;5;28misinstance\u001b[39m(other, \u001b[38;5;28mtype\u001b[39m(\u001b[38;5;28mself\u001b[39m)):\n\u001b[1;32m---> 15\u001b[0m         \u001b[38;5;28;01mraise\u001b[39;00m \u001b[38;5;167;01mTypeError\u001b[39;00m(\u001b[38;5;124mf\u001b[39m\u001b[38;5;124m\"\u001b[39m\u001b[38;5;132;01m{\u001b[39;00mother\u001b[38;5;132;01m}\u001b[39;00m\u001b[38;5;124m must be of type \u001b[39m\u001b[38;5;132;01m{\u001b[39;00m\u001b[38;5;28mtype\u001b[39m(\u001b[38;5;28mself\u001b[39m)\u001b[38;5;132;01m}\u001b[39;00m\u001b[38;5;124m\"\u001b[39m)\n\u001b[0;32m     17\u001b[0m     condition1 \u001b[38;5;241m=\u001b[39m (\u001b[38;5;28mself\u001b[39m\u001b[38;5;241m.\u001b[39mphone \u001b[38;5;241m==\u001b[39m other\u001b[38;5;241m.\u001b[39mphone)\n\u001b[0;32m     18\u001b[0m     condition2 \u001b[38;5;241m=\u001b[39m (\u001b[38;5;28mself\u001b[39m\u001b[38;5;241m.\u001b[39memail \u001b[38;5;241m==\u001b[39m other\u001b[38;5;241m.\u001b[39memail)\n",
      "\u001b[1;31mTypeError\u001b[0m: Nicolas must be of type <class '__main__.Contact'>"
     ]
    }
   ],
   "source": [
    "c2 == 'Nicolas'"
   ]
  },
  {
   "cell_type": "code",
   "execution_count": null,
   "id": "189a49b3-9542-4d5e-a3be-3171a9d3435e",
   "metadata": {},
   "outputs": [],
   "source": []
  }
 ],
 "metadata": {
  "kernelspec": {
   "display_name": "Python 3 (ipykernel)",
   "language": "python",
   "name": "python3"
  },
  "language_info": {
   "codemirror_mode": {
    "name": "ipython",
    "version": 3
   },
   "file_extension": ".py",
   "mimetype": "text/x-python",
   "name": "python",
   "nbconvert_exporter": "python",
   "pygments_lexer": "ipython3",
   "version": "3.12.7"
  }
 },
 "nbformat": 4,
 "nbformat_minor": 5
}
