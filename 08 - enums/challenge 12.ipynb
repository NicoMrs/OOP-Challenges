{
 "cells": [
  {
   "cell_type": "markdown",
   "id": "0c1828df-7c23-493b-8f16-963434ebdeba",
   "metadata": {},
   "source": [
    "# Requirements:\n",
    "- Define a new type called Permission that stores user permissions: read, write, and/or execute\n",
    "- This type should be an enumeration, with the ability to support bitwise operations\n",
    "- Separately define a new type called User, which takes a name and user_role at instantiation\n",
    "- Internally, the User class sets a permissions attribute depending on the specified user_group:\n",
    "  - admin: read, write, and execute\n",
    "  - user: read,\n",
    "  - manager: read, write\n",
    "  - support: execute\n",
    "- The User class also implements (or ideally inherits) read(file), write(file, content), and execute(file) methods which\n",
    "are permission-checked, e.g. a User belonging to the support user_role will not be able to write, but only execute\n",
    "- For ease of operation, assume that the read/write/execute functionality pertains to a python script\n",
    "- Instances of User should have an informative string representation\n",
    "- As an extra challenge, try to allow some polymorphism in the user_role so that it's possible to instantiate by both\n",
    "string roles as well as integers, e.g. User(\"A\", user_role=2) would imply WRITE-only permissions, whereas\n",
    "User(\"B\", user_role=6) would imply WRITE and EXEC, because 2**1 + 2**2 = 2 + 4 = 6"
   ]
  },
  {
   "cell_type": "code",
   "execution_count": 3,
   "id": "9a98b32c-933a-493d-a091-df1a549d7f3a",
   "metadata": {},
   "outputs": [],
   "source": [
    "from enum import Flag, auto # to enable binary operation"
   ]
  },
  {
   "cell_type": "code",
   "execution_count": 4,
   "id": "83e6fd93-41e7-4554-9cab-dc07fba81f7a",
   "metadata": {},
   "outputs": [],
   "source": [
    "class Permission(Flag):\n",
    "    READ = auto()\n",
    "    WRITE = auto()\n",
    "    EXEC = auto()"
   ]
  },
  {
   "cell_type": "code",
   "execution_count": 5,
   "id": "6f38f9e7-4673-475c-9b2b-a31308e875b7",
   "metadata": {},
   "outputs": [
    {
     "data": {
      "text/plain": [
       "mappingproxy({'READ': <Permission.READ: 1>,\n",
       "              'WRITE': <Permission.WRITE: 2>,\n",
       "              'EXEC': <Permission.EXEC: 4>})"
      ]
     },
     "execution_count": 5,
     "metadata": {},
     "output_type": "execute_result"
    }
   ],
   "source": [
    "Permission.__members__"
   ]
  },
  {
   "cell_type": "code",
   "execution_count": 6,
   "id": "a2d07693-0755-40cd-974a-ff606f1bf153",
   "metadata": {},
   "outputs": [
    {
     "data": {
      "text/plain": [
       "<Permission.READ|WRITE: 3>"
      ]
     },
     "execution_count": 6,
     "metadata": {},
     "output_type": "execute_result"
    }
   ],
   "source": [
    "# unique binary number associated with each membe\n",
    "# enable bitwise operations\n",
    "# READ or WRITE\n",
    "# 01 or 10 -> 11 -> 3\n",
    "Permission.READ | Permission.WRITE"
   ]
  },
  {
   "cell_type": "code",
   "execution_count": 7,
   "id": "4b9de001-ea29-4e84-8798-5c37be8bf2df",
   "metadata": {},
   "outputs": [
    {
     "data": {
      "text/plain": [
       "<Permission.WRITE|EXEC: 6>"
      ]
     },
     "execution_count": 7,
     "metadata": {},
     "output_type": "execute_result"
    }
   ],
   "source": [
    "Permission(6)"
   ]
  },
  {
   "cell_type": "code",
   "execution_count": 8,
   "id": "e32a441d-548a-4ee3-aaf3-bd8d5b5b31f3",
   "metadata": {},
   "outputs": [],
   "source": [
    "class BaseUser:\n",
    "\n",
    "    USER_GROUP = {\n",
    "        'admin': Permission.READ | Permission.WRITE | Permission.EXEC,\n",
    "        'manager':Permission.READ| Permission.WRITE, \n",
    "        'user': Permission.READ,\n",
    "        'support':Permission.EXEC\n",
    "    }\n",
    "    \n",
    "    def read(self, file):\n",
    "        with open(file, 'r') as f:\n",
    "            for line in f:\n",
    "                print(line)\n",
    "\n",
    "    def write(self, file, content):\n",
    "        with open(file, 'w') as f:\n",
    "            f.write(content)\n",
    "\n",
    "    def execute(self, file):\n",
    "        with open(file, 'r') as f:\n",
    "            for line in f:\n",
    "                exec(line)"
   ]
  },
  {
   "cell_type": "code",
   "execution_count": 9,
   "id": "b30f73c9-20e2-412a-b41a-a64eb1900d91",
   "metadata": {},
   "outputs": [],
   "source": [
    "class PermissionError(Exception):\n",
    "    \n",
    "    def __init__(self,action):\n",
    "        self.action = action\n",
    "        \n",
    "    def __str__(self):\n",
    "        return f\"User does not have {self.action.name} permission\""
   ]
  },
  {
   "cell_type": "code",
   "execution_count": 10,
   "id": "77c441b9-b8ea-4bee-bc94-754d5e442707",
   "metadata": {},
   "outputs": [],
   "source": [
    "class User(BaseUser):\n",
    "\n",
    "    def __init__(self, name, user_role):\n",
    "        self.name = name\n",
    "        self.user_role = user_role\n",
    "\n",
    "    @property\n",
    "    def permissions(self):\n",
    "        try:\n",
    "            self._permission=Permission(int(self.user_role))\n",
    "        except ValueError:\n",
    "            if self.user_role not in self.USER_GROUP.keys():\n",
    "                raise NotImplementedError(f\"{self.user_role} not defined\")\n",
    "            self._permission = self.USER_GROUP[self.user_role]\n",
    "        return self._permission\n",
    "    \n",
    "    @staticmethod\n",
    "    def check_permission(permission):\n",
    "        def wrap(func):\n",
    "            def inner(self, *args, **kwargs):\n",
    "                if permission not in self.permissions:\n",
    "                    raise PermissionError(permission)\n",
    "                return func(self, *args, **kwargs)\n",
    "            return inner\n",
    "        return wrap\n",
    "        \n",
    "    def __repr__(self):\n",
    "        return f\"{type(self).__name__}(name={self.name!r}, user_role={self.user_role!r})\"\n",
    "\n",
    "    @check_permission(Permission.READ)\n",
    "    def read(self, file):\n",
    "        super().read(file)\n",
    "\n",
    "    @check_permission(Permission.WRITE)\n",
    "    def write(self, file, content):\n",
    "        super().write(file, content)\n",
    "\n",
    "    @check_permission(Permission.EXEC)\n",
    "    def execute(self, file):\n",
    "        super().execute(file)"
   ]
  },
  {
   "cell_type": "code",
   "execution_count": 11,
   "id": "b272e8e2-2193-4fb9-aec2-1d9d6baecab0",
   "metadata": {},
   "outputs": [
    {
     "data": {
      "text/plain": [
       "User(name='Aaron', user_role='user')"
      ]
     },
     "execution_count": 11,
     "metadata": {},
     "output_type": "execute_result"
    }
   ],
   "source": [
    "u1 = User(name=\"Aaron\", user_role=\"user\")\n",
    "u1"
   ]
  },
  {
   "cell_type": "code",
   "execution_count": 12,
   "id": "7571c780-4af7-4e7a-bea2-22db75f702b1",
   "metadata": {},
   "outputs": [
    {
     "data": {
      "text/plain": [
       "<Permission.READ|WRITE|EXEC: 7>"
      ]
     },
     "execution_count": 12,
     "metadata": {},
     "output_type": "execute_result"
    }
   ],
   "source": [
    "u2 = User(\"Andrew\", \"admin\")\n",
    "u2.permissions"
   ]
  },
  {
   "cell_type": "code",
   "execution_count": 13,
   "id": "749c3e7a-af8b-44ad-b3ab-e5f9eaf14ab5",
   "metadata": {},
   "outputs": [
    {
     "name": "stdout",
     "output_type": "stream",
     "text": [
      "0\n",
      "1\n",
      "2\n",
      "3\n",
      "4\n",
      "5\n",
      "6\n",
      "7\n",
      "8\n",
      "9\n"
     ]
    }
   ],
   "source": [
    "u2.write(file=\"script.py\", content=\"for i in range(10): print(i)\")\n",
    "u2.execute(file=\"script.py\")"
   ]
  },
  {
   "cell_type": "code",
   "execution_count": 14,
   "id": "f2ba1903-f4fa-442e-a535-1105f981e872",
   "metadata": {},
   "outputs": [
    {
     "name": "stdout",
     "output_type": "stream",
     "text": [
      "for i in range(10): print(i)\n"
     ]
    }
   ],
   "source": [
    "u1.read(file=\"script.py\")"
   ]
  },
  {
   "cell_type": "code",
   "execution_count": 15,
   "id": "b610cce8-faa8-4d73-82da-ce808603848e",
   "metadata": {},
   "outputs": [
    {
     "name": "stdout",
     "output_type": "stream",
     "text": [
      "User does not have EXEC permission\n"
     ]
    }
   ],
   "source": [
    "try:\n",
    "    u1.execute(file=\"script.py\")\n",
    "except PermissionError as err:\n",
    "    print(err)"
   ]
  },
  {
   "cell_type": "code",
   "execution_count": 16,
   "id": "632b006d-53d5-4461-b395-98cc53330f21",
   "metadata": {},
   "outputs": [
    {
     "data": {
      "text/plain": [
       "<Permission.WRITE|EXEC: 6>"
      ]
     },
     "execution_count": 16,
     "metadata": {},
     "output_type": "execute_result"
    }
   ],
   "source": [
    "u3 = User(\"Joseph\", 6)\n",
    "u3.permissions"
   ]
  },
  {
   "cell_type": "code",
   "execution_count": 17,
   "id": "ab0434ec-2067-43f9-8120-e5ff9a54ce7d",
   "metadata": {},
   "outputs": [
    {
     "name": "stdout",
     "output_type": "stream",
     "text": [
      "0\n",
      "1\n",
      "2\n",
      "3\n",
      "4\n",
      "5\n",
      "6\n",
      "7\n",
      "8\n",
      "9\n"
     ]
    }
   ],
   "source": [
    "u3.execute(file=\"script.py\")"
   ]
  }
 ],
 "metadata": {
  "kernelspec": {
   "display_name": "Python 3 (ipykernel)",
   "language": "python",
   "name": "python3"
  },
  "language_info": {
   "codemirror_mode": {
    "name": "ipython",
    "version": 3
   },
   "file_extension": ".py",
   "mimetype": "text/x-python",
   "name": "python",
   "nbconvert_exporter": "python",
   "pygments_lexer": "ipython3",
   "version": "3.12.7"
  }
 },
 "nbformat": 4,
 "nbformat_minor": 5
}
