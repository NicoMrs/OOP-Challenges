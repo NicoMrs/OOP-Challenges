{
 "cells": [
  {
   "cell_type": "markdown",
   "id": "b0ef12f2-ce25-423e-95de-fbe438041e77",
   "metadata": {},
   "source": [
    "# Important Notes\n",
    "Two notes that I find important on Enum classes:\n",
    " - enum attributes\n",
    " - extend and subclass enum"
   ]
  },
  {
   "cell_type": "markdown",
   "id": "228f2e45-33f3-4910-9194-dddcabdebf71",
   "metadata": {},
   "source": [
    "### 1. class attributes are also instance of the class itself"
   ]
  },
  {
   "cell_type": "code",
   "execution_count": 3,
   "id": "fde18671-8adc-47a2-83ef-8a1653476639",
   "metadata": {},
   "outputs": [],
   "source": [
    "from enum import Enum"
   ]
  },
  {
   "cell_type": "code",
   "execution_count": 4,
   "id": "95d69cc0-c399-4555-b1bf-8ec176c0149b",
   "metadata": {},
   "outputs": [],
   "source": [
    "class Regions(Enum):\n",
    "    HF = \"Hauts de France\"\n",
    "    IDF = \"Ile de France\"\n",
    "    N = \"Normandie\"\n",
    "    GE = \"Grand Est\"\n",
    "    O = \"Occitanie\"    "
   ]
  },
  {
   "cell_type": "code",
   "execution_count": 5,
   "id": "5f303b84-f4a6-40bc-bf9c-83117a99158d",
   "metadata": {},
   "outputs": [
    {
     "data": {
      "text/plain": [
       "<Regions.HF: 'Hauts de France'>"
      ]
     },
     "execution_count": 5,
     "metadata": {},
     "output_type": "execute_result"
    }
   ],
   "source": [
    "Regions.HF"
   ]
  },
  {
   "cell_type": "code",
   "execution_count": 6,
   "id": "3aeafb24-cd88-49f5-ada4-4fd5da99cdc4",
   "metadata": {},
   "outputs": [
    {
     "data": {
      "text/plain": [
       "True"
      ]
     },
     "execution_count": 6,
     "metadata": {},
     "output_type": "execute_result"
    }
   ],
   "source": [
    "isinstance(Regions.HF, Regions)"
   ]
  },
  {
   "cell_type": "code",
   "execution_count": 7,
   "id": "3df04add-9b4a-405d-925f-0b356b4ec464",
   "metadata": {},
   "outputs": [],
   "source": [
    "class RegularRegions:\n",
    "    HF = \"Hauts de France\"\n",
    "    IDF = \"Ile de France\"\n",
    "    N = \"Normandie\"\n",
    "    GE = \"Grand Est\"\n",
    "    O = \"Occitanie\"  "
   ]
  },
  {
   "cell_type": "code",
   "execution_count": 8,
   "id": "0466d80d-459d-400d-a01a-af615474fa07",
   "metadata": {},
   "outputs": [
    {
     "data": {
      "text/plain": [
       "'Hauts de France'"
      ]
     },
     "execution_count": 8,
     "metadata": {},
     "output_type": "execute_result"
    }
   ],
   "source": [
    "RegularRegions.HF"
   ]
  },
  {
   "cell_type": "code",
   "execution_count": 9,
   "id": "25ed407f-365b-45dc-afe0-e7d9825ab322",
   "metadata": {},
   "outputs": [
    {
     "data": {
      "text/plain": [
       "False"
      ]
     },
     "execution_count": 9,
     "metadata": {},
     "output_type": "execute_result"
    }
   ],
   "source": [
    "isinstance(RegularRegions.HF, RegularRegions)"
   ]
  },
  {
   "cell_type": "code",
   "execution_count": 10,
   "id": "d762db5e-3849-477a-a837-63753acfdd9a",
   "metadata": {},
   "outputs": [],
   "source": [
    "class Regions(Enum):\n",
    "    HF = \"Hauts de France\"\n",
    "    IDF = \"Ile de France\"\n",
    "    N = \"Normandie\"\n",
    "    GE = \"Grand Est\"\n",
    "    O = \"Occitanie\"  \n",
    "\n",
    "    @property\n",
    "    def is_south(self):\n",
    "        return self == Regions.O"
   ]
  },
  {
   "cell_type": "code",
   "execution_count": 11,
   "id": "bbe5d5c9-60c3-429f-bc0d-70aad768a7ce",
   "metadata": {},
   "outputs": [
    {
     "data": {
      "text/plain": [
       "True"
      ]
     },
     "execution_count": 11,
     "metadata": {},
     "output_type": "execute_result"
    }
   ],
   "source": [
    "# is_south can be called on Region.O because it is not a regular class attribute but rather a Region Instance\n",
    "Regions.O.is_south"
   ]
  },
  {
   "cell_type": "markdown",
   "id": "ad6fb01c-5e77-4a30-81c4-6893342dd2cf",
   "metadata": {},
   "source": [
    "### 2. Extend or subclass Enum class"
   ]
  },
  {
   "cell_type": "markdown",
   "id": "23c91958-e99f-40f1-972a-eaaafdfa2949",
   "metadata": {},
   "source": [
    "Cannot subclass enum class with members in it"
   ]
  },
  {
   "cell_type": "code",
   "execution_count": 14,
   "id": "c31bad63-7d4f-484f-b5bc-1605aa6ef550",
   "metadata": {},
   "outputs": [],
   "source": [
    "class BaseRegion(Enum):\n",
    "    O = \"Occitanie\""
   ]
  },
  {
   "cell_type": "code",
   "execution_count": 15,
   "id": "073180b4-25f2-4c0c-a0b2-e014c8a1e257",
   "metadata": {},
   "outputs": [
    {
     "name": "stdout",
     "output_type": "stream",
     "text": [
      "Regions: cannot extend enumeration 'BaseRegion'\n"
     ]
    }
   ],
   "source": [
    "try :\n",
    "    class Regions(BaseRegion):\n",
    "        pass\n",
    "except TypeError as err:\n",
    "    print(err)"
   ]
  },
  {
   "cell_type": "markdown",
   "id": "4ed6568f-4476-494b-887a-307d652353df",
   "metadata": {},
   "source": [
    "Instead subclassing enum classes should be to propagate a shared behaviour"
   ]
  },
  {
   "cell_type": "code",
   "execution_count": 17,
   "id": "f369708b-ee82-433d-9018-d7785d1dc6bb",
   "metadata": {},
   "outputs": [],
   "source": [
    "class BaseRegions(Enum):\n",
    "\n",
    "    @classmethod\n",
    "    def values(cls):\n",
    "        return [member.value for member in cls]"
   ]
  },
  {
   "cell_type": "code",
   "execution_count": 18,
   "id": "88fc6abc-212e-4fc8-81e2-6d0dd8cc6621",
   "metadata": {},
   "outputs": [],
   "source": [
    "class Regions(BaseRegions):\n",
    "\n",
    "    O = \"Occitanie\"\n",
    "    IDF = \"IDF\"\n",
    "    GE = \"Grand Est\""
   ]
  },
  {
   "cell_type": "code",
   "execution_count": 19,
   "id": "2f8e805f-ecea-4fc0-8e39-da2218484756",
   "metadata": {},
   "outputs": [
    {
     "data": {
      "text/plain": [
       "['Occitanie', 'IDF', 'Grand Est']"
      ]
     },
     "execution_count": 19,
     "metadata": {},
     "output_type": "execute_result"
    }
   ],
   "source": [
    "Regions.values()"
   ]
  },
  {
   "cell_type": "code",
   "execution_count": 20,
   "id": "3f417c70-5129-400e-99c2-69b7798d0844",
   "metadata": {},
   "outputs": [
    {
     "data": {
      "text/plain": [
       "['O', 'IDF', 'GE']"
      ]
     },
     "execution_count": 20,
     "metadata": {},
     "output_type": "execute_result"
    }
   ],
   "source": [
    "class BaseRegions(Enum):\n",
    "\n",
    "    @property\n",
    "    def values(self):\n",
    "        # recall member is attached to the class not the instance of the class\n",
    "        return list(type(self).__members__.keys())\n",
    "\n",
    "class Regions(BaseRegions):\n",
    "\n",
    "    O = \"Occitanie\"\n",
    "    IDF = \"IDF\"\n",
    "    GE = \"Grand Est\"\n",
    "\n",
    "Regions.O.values"
   ]
  }
 ],
 "metadata": {
  "kernelspec": {
   "display_name": "Python [conda env:MLenv]",
   "language": "python",
   "name": "conda-env-MLenv-py"
  },
  "language_info": {
   "codemirror_mode": {
    "name": "ipython",
    "version": 3
   },
   "file_extension": ".py",
   "mimetype": "text/x-python",
   "name": "python",
   "nbconvert_exporter": "python",
   "pygments_lexer": "ipython3",
   "version": "3.9.21"
  }
 },
 "nbformat": 4,
 "nbformat_minor": 5
}
