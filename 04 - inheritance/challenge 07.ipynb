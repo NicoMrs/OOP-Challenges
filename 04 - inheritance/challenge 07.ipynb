{
 "cells": [
  {
   "cell_type": "markdown",
   "id": "b3e07c55-472e-40de-8179-9fec2e0fd4b0",
   "metadata": {},
   "source": [
    "# Requirements:\n",
    "- Define a new type called BankAccount that takes a single instance attribute: initial_balance (defaults to 0)\n",
    "- This type should support a deposit() and withdraw() methods, which in turn should only support transactions in\n",
    "positive amounts, i.e. an attempt to deposit or withdraw -2 should be ignored\n",
    "- Define 3 more specialized types of BankAccount with the following characteristics:\n",
    " - Savings: has pay_interest() method which deposits directly into the account when called; interest rate: 0.0035\n",
    " - HighInterest: like Savings, but higher interest and with a withdrawal fee. The fee is specified at initialization\n",
    "and defaults to 5. It is taken from the account's balance on every withdrawal. Interest rate: 0.007\n",
    " - LockedIn: like HighInterest, but higher interest without the ability to withdraw on demand. Interest rate: 0.009\n",
    "- The balance of any of the above accounts should be available by attribute access syntax, e.g. account.balance\n",
    "- The representation of any of the instances should simply indicate the type of account and the amount contained\n",
    "within, e.g. A SavingsBankAccount with $100 in it."
   ]
  },
  {
   "cell_type": "code",
   "execution_count": 3,
   "id": "b848d64f-51da-4b28-b24c-ab9920fafaf4",
   "metadata": {},
   "outputs": [],
   "source": [
    "class BankAccount:\n",
    "\n",
    "    def __init__(self, initial_balance=0):\n",
    "        self.initial_balance = initial_balance\n",
    "\n",
    "    def deposit(self, amount):\n",
    "        self._check_amount(amount)\n",
    "        self.initial_balance += amount\n",
    "        print(f\"Deposited ${amount}.\")\n",
    "\n",
    "    def withdraw(self, amount):\n",
    "        self._check_amount(amount)\n",
    "        if amount > self.initial_balance:\n",
    "            raise ValueError(\"Not Enough Money On Bank Account\")\n",
    "        self.initial_balance -= amount\n",
    "        print(f\"Withdrew ${amount}.\")\n",
    "\n",
    "    def _check_amount(self, amount):\n",
    "        \"\"\" Check that amount is a positive value \"\"\"\n",
    "        if amount < 0:\n",
    "            raise ValueError(\"amount must be positive\")\n",
    "            \n",
    "    def get_mro_name(self):\n",
    "        \"\"\" return mro look up chain \"\"\"\n",
    "        mro = type(self).__mro__\n",
    "        return ''.join([obj.__name__ for obj in mro][:-1])\n",
    "        \n",
    "    def __repr__(self):\n",
    "        cls_name = self.get_mro_name()\n",
    "        return f\"A {cls_name} with ${self.initial_balance} in it.\"\n",
    "\n",
    "    @property # read only\n",
    "    def balance(self):\n",
    "        return self.initial_balance"
   ]
  },
  {
   "cell_type": "code",
   "execution_count": 4,
   "id": "3593c9c3-34aa-409f-9e15-3f8d0342dff6",
   "metadata": {},
   "outputs": [],
   "source": [
    "class Savings(BankAccount):\n",
    "    RATE = 0.0035\n",
    "    \n",
    "    # no need to call __init__(s) and delegate to parents \n",
    "    # if not implement Python will look up the mro chains\n",
    "    \n",
    "    def pay_interest(self):\n",
    "        super().deposit(self.initial_balance*self.RATE)"
   ]
  },
  {
   "cell_type": "code",
   "execution_count": 5,
   "id": "6acf2d34-55ca-4da3-be56-ea2112d89f0c",
   "metadata": {},
   "outputs": [],
   "source": [
    "class HighInterest(Savings):\n",
    "    RATE = 0.007\n",
    "\n",
    "    def __init__(self, withdrawal_fee = 5, initial_balance = 0):\n",
    "        super().__init__(initial_balance) # parent delegation must be done\n",
    "        self.withdrawal_fee = withdrawal_fee\n",
    "\n",
    "    def withdraw(self, amount):\n",
    "        super().withdraw(amount+self.withdrawal_fee)"
   ]
  },
  {
   "cell_type": "code",
   "execution_count": 6,
   "id": "e53ebf54-8ad9-45d4-9bfc-a09ec77c4e59",
   "metadata": {},
   "outputs": [],
   "source": [
    "class LockedIn(Savings):\n",
    "    RATE = 0.009\n",
    "\n",
    "    def withdraw(self, amount):\n",
    "        raise NotImplementedError(\"Can't make an early withdrawal from a Locked-in Savings acount!\")"
   ]
  },
  {
   "cell_type": "code",
   "execution_count": 7,
   "id": "77f14db1-b8cd-42d5-82ca-c57f396c7ca9",
   "metadata": {},
   "outputs": [
    {
     "data": {
      "text/plain": [
       "A BankAccount with $100 in it."
      ]
     },
     "execution_count": 7,
     "metadata": {},
     "output_type": "execute_result"
    }
   ],
   "source": [
    "b = BankAccount(initial_balance=100)\n",
    "b"
   ]
  },
  {
   "cell_type": "code",
   "execution_count": 8,
   "id": "e6ef9dcf-b129-4d63-8fca-a39e5edfbba7",
   "metadata": {},
   "outputs": [
    {
     "name": "stdout",
     "output_type": "stream",
     "text": [
      "Deposited $2.\n"
     ]
    },
    {
     "data": {
      "text/plain": [
       "A BankAccount with $102 in it."
      ]
     },
     "execution_count": 8,
     "metadata": {},
     "output_type": "execute_result"
    }
   ],
   "source": [
    "b.deposit(2)\n",
    "b"
   ]
  },
  {
   "cell_type": "code",
   "execution_count": 9,
   "id": "e5c1c690-19a2-4255-a2c4-b4ecedd9faa3",
   "metadata": {},
   "outputs": [
    {
     "name": "stdout",
     "output_type": "stream",
     "text": [
      "Withdrew $70.\n"
     ]
    },
    {
     "data": {
      "text/plain": [
       "A BankAccount with $32 in it."
      ]
     },
     "execution_count": 9,
     "metadata": {},
     "output_type": "execute_result"
    }
   ],
   "source": [
    "b.withdraw(70)\n",
    "b"
   ]
  },
  {
   "cell_type": "code",
   "execution_count": 10,
   "id": "0f4f4ed3-edbd-496b-a90d-f54790a333c9",
   "metadata": {},
   "outputs": [
    {
     "name": "stdout",
     "output_type": "stream",
     "text": [
      "Deposited $0.49.\n"
     ]
    }
   ],
   "source": [
    "s = Savings(140)\n",
    "s.pay_interest()"
   ]
  },
  {
   "cell_type": "code",
   "execution_count": 11,
   "id": "73a3e337-ff4a-4690-931b-25338635c1a2",
   "metadata": {},
   "outputs": [
    {
     "data": {
      "text/plain": [
       "A SavingsBankAccount with $140.49 in it."
      ]
     },
     "execution_count": 11,
     "metadata": {},
     "output_type": "execute_result"
    }
   ],
   "source": [
    "s"
   ]
  },
  {
   "cell_type": "code",
   "execution_count": 12,
   "id": "7ff2f9b8-43d8-4702-9962-8d157b5cf3e6",
   "metadata": {},
   "outputs": [
    {
     "data": {
      "text/plain": [
       "(__main__.Savings, __main__.BankAccount, object)"
      ]
     },
     "execution_count": 12,
     "metadata": {},
     "output_type": "execute_result"
    }
   ],
   "source": [
    "Savings.__mro__"
   ]
  },
  {
   "cell_type": "code",
   "execution_count": 13,
   "id": "ab6b2dcf-262d-4cdd-9d4b-e60d3c53a9fd",
   "metadata": {},
   "outputs": [],
   "source": [
    "def get_name(obj):\n",
    "    \"\"\" return mro look up chain \"\"\"\n",
    "    mro = type(obj).__mro__\n",
    "    return ''.join([obj.__name__ for obj in mro][:-1])"
   ]
  },
  {
   "cell_type": "code",
   "execution_count": 14,
   "id": "eaccc7d2-d98b-491d-bbb1-ed2931b7f22a",
   "metadata": {},
   "outputs": [
    {
     "data": {
      "text/plain": [
       "'SavingsBankAccount'"
      ]
     },
     "execution_count": 14,
     "metadata": {},
     "output_type": "execute_result"
    }
   ],
   "source": [
    "get_name(s)"
   ]
  },
  {
   "cell_type": "code",
   "execution_count": 15,
   "id": "eb0a1312-cbee-4c47-91dc-510a0e00db69",
   "metadata": {},
   "outputs": [
    {
     "data": {
      "text/plain": [
       "A HighInterestSavingsBankAccount with $0 in it."
      ]
     },
     "execution_count": 15,
     "metadata": {},
     "output_type": "execute_result"
    }
   ],
   "source": [
    "hi = HighInterest(withdrawal_fee=3)\n",
    "hi"
   ]
  },
  {
   "cell_type": "code",
   "execution_count": 16,
   "id": "65626a1f-3cd3-44a7-88ec-34830bd0282c",
   "metadata": {},
   "outputs": [
    {
     "name": "stdout",
     "output_type": "stream",
     "text": [
      "Deposited $140.\n"
     ]
    }
   ],
   "source": [
    "hi.deposit(140)"
   ]
  },
  {
   "cell_type": "code",
   "execution_count": 17,
   "id": "3e1d51cf-673f-4c1d-afcd-f978fdf674dd",
   "metadata": {},
   "outputs": [
    {
     "name": "stdout",
     "output_type": "stream",
     "text": [
      "Deposited $0.98.\n"
     ]
    }
   ],
   "source": [
    "hi.pay_interest()"
   ]
  },
  {
   "cell_type": "code",
   "execution_count": 18,
   "id": "e794c1d3-c869-4549-af0e-d853595de274",
   "metadata": {},
   "outputs": [
    {
     "name": "stdout",
     "output_type": "stream",
     "text": [
      "Withdrew $3.98.\n"
     ]
    }
   ],
   "source": [
    "hi.withdraw(0.98)"
   ]
  },
  {
   "cell_type": "code",
   "execution_count": 19,
   "id": "5bee7539-bf5e-4180-9310-a00b1579aafc",
   "metadata": {},
   "outputs": [
    {
     "data": {
      "text/plain": [
       "A HighInterestSavingsBankAccount with $137.0 in it."
      ]
     },
     "execution_count": 19,
     "metadata": {},
     "output_type": "execute_result"
    }
   ],
   "source": [
    "hi"
   ]
  },
  {
   "cell_type": "code",
   "execution_count": 20,
   "id": "2bee6457-8ade-40a9-b78f-f5f8a67a3e87",
   "metadata": {},
   "outputs": [
    {
     "data": {
      "text/plain": [
       "137.0"
      ]
     },
     "execution_count": 20,
     "metadata": {},
     "output_type": "execute_result"
    }
   ],
   "source": [
    "hi.balance"
   ]
  },
  {
   "cell_type": "code",
   "execution_count": 21,
   "id": "8ded54f1-c511-45c5-8e35-f0bd359a3846",
   "metadata": {},
   "outputs": [
    {
     "name": "stdout",
     "output_type": "stream",
     "text": [
      "can't set attribute\n"
     ]
    }
   ],
   "source": [
    "try:\n",
    "    hi.balance = 150\n",
    "except AttributeError as err:\n",
    "    print(f\"{err}\")"
   ]
  },
  {
   "cell_type": "code",
   "execution_count": 22,
   "id": "04df3519-d18e-4133-9097-3fcc11b316bb",
   "metadata": {},
   "outputs": [],
   "source": [
    "l = LockedIn(1000)"
   ]
  },
  {
   "cell_type": "code",
   "execution_count": 23,
   "id": "4db6b618-3add-4689-9d31-66c5d911a4ad",
   "metadata": {},
   "outputs": [
    {
     "name": "stdout",
     "output_type": "stream",
     "text": [
      "Deposited $9.0.\n"
     ]
    }
   ],
   "source": [
    "l.pay_interest()"
   ]
  },
  {
   "cell_type": "code",
   "execution_count": 24,
   "id": "57204903-c0cb-4a16-b625-61685e70ef04",
   "metadata": {},
   "outputs": [
    {
     "name": "stdout",
     "output_type": "stream",
     "text": [
      "Can't make an early withdrawal from a Locked-in Savings acount!\n"
     ]
    }
   ],
   "source": [
    "try:\n",
    "    l.withdraw(1)\n",
    "except NotImplementedError as err:\n",
    "    print(err)"
   ]
  },
  {
   "cell_type": "code",
   "execution_count": 50,
   "id": "f2bdcb4b-6ae7-40ec-8d45-7c159b24f0a9",
   "metadata": {},
   "outputs": [
    {
     "data": {
      "text/plain": [
       "A LockedInSavingsBankAccount with $1009.0 in it."
      ]
     },
     "execution_count": 50,
     "metadata": {},
     "output_type": "execute_result"
    }
   ],
   "source": [
    "l"
   ]
  }
 ],
 "metadata": {
  "kernelspec": {
   "display_name": "Python [conda env:MLenv]",
   "language": "python",
   "name": "conda-env-MLenv-py"
  },
  "language_info": {
   "codemirror_mode": {
    "name": "ipython",
    "version": 3
   },
   "file_extension": ".py",
   "mimetype": "text/x-python",
   "name": "python",
   "nbconvert_exporter": "python",
   "pygments_lexer": "ipython3",
   "version": "3.9.21"
  }
 },
 "nbformat": 4,
 "nbformat_minor": 5
}
