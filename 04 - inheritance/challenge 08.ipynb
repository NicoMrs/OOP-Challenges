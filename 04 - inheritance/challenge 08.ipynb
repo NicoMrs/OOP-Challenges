{
 "cells": [
  {
   "cell_type": "markdown",
   "id": "ff367108-9826-423c-a208-12367b053754",
   "metadata": {},
   "source": [
    "Built-in types are written in C hence overriding a method from them won't necessarily work well. Instead use built-ins \n",
    "from collections which can be easily extended."
   ]
  },
  {
   "cell_type": "markdown",
   "id": "3f70d222-75e2-483f-9a8e-c4a760469770",
   "metadata": {},
   "source": [
    "## Requirements:\n",
    "- Define a new type of dictionary called BidirectionalDict\n",
    "- It should behave like a regular dictionary, except for enabling the user to look up in either direction, i.e.\n",
    "either a value by key (as in a regular dict) or a key by its value\n",
    "- The length of the dictionary should reflect the number of unique non-mirrored key-value pairs\n",
    "- When/if a given pair is removed from the dict, its mirrored sibling should also be removed\n",
    "- Other dictionary methods like pop() and update() should work as expected, and apply to the mirrored pair too"
   ]
  },
  {
   "cell_type": "code",
   "execution_count": 3,
   "id": "6a9660d2-b51d-4a20-9a96-583a3dfad78a",
   "metadata": {},
   "outputs": [],
   "source": [
    "from collections import UserDict\n",
    "\n",
    "class BidirectionalDict(UserDict):\n",
    "\n",
    "    def __setitem__(self, key, value):\n",
    "\n",
    "        # if key already exist delete key/value pair\n",
    "        if key in self.__dict__['data']:\n",
    "            self.__delitem__(key)\n",
    "            \n",
    "        super().__setitem__(key, value)\n",
    "        super().__setitem__(value, key)\n",
    "\n",
    "    def __len__(self):\n",
    "        return int(len(self.__dict__['data'])/2)\n",
    "\n",
    "    def __delitem__(self, key):\n",
    "        value = self.__getitem__(key)\n",
    "        super().__delitem__(key)\n",
    "        super().__delitem__(value)"
   ]
  },
  {
   "cell_type": "code",
   "execution_count": 4,
   "id": "56d72ba9-bccd-4247-8b28-339dd9efce85",
   "metadata": {},
   "outputs": [
    {
     "data": {
      "text/plain": [
       "{'code': 'more', 'more': 'code', 'sleep': 'less', 'less': 'sleep'}"
      ]
     },
     "execution_count": 4,
     "metadata": {},
     "output_type": "execute_result"
    }
   ],
   "source": [
    "bd = BidirectionalDict({\"code\": \"more\", \"sleep\": \"less\"})\n",
    "bd"
   ]
  },
  {
   "cell_type": "code",
   "execution_count": 5,
   "id": "0116ddcd-d48d-41a1-b5cf-e2ca0095175e",
   "metadata": {},
   "outputs": [
    {
     "data": {
      "text/plain": [
       "{'data': {'code': 'more', 'more': 'code', 'sleep': 'less', 'less': 'sleep'}}"
      ]
     },
     "execution_count": 5,
     "metadata": {},
     "output_type": "execute_result"
    }
   ],
   "source": [
    "bd.__dict__ # data stored in db.__dict__['data']"
   ]
  },
  {
   "cell_type": "code",
   "execution_count": 6,
   "id": "bdc644c3-3f2c-437a-876b-d251c2e97d75",
   "metadata": {},
   "outputs": [
    {
     "data": {
      "text/plain": [
       "'more'"
      ]
     },
     "execution_count": 6,
     "metadata": {},
     "output_type": "execute_result"
    }
   ],
   "source": [
    "bd['code']"
   ]
  },
  {
   "cell_type": "code",
   "execution_count": 7,
   "id": "cb8a952e-dfd1-4282-9578-a27ac174657c",
   "metadata": {},
   "outputs": [
    {
     "data": {
      "text/plain": [
       "'code'"
      ]
     },
     "execution_count": 7,
     "metadata": {},
     "output_type": "execute_result"
    }
   ],
   "source": [
    "bd['more']"
   ]
  },
  {
   "cell_type": "code",
   "execution_count": 8,
   "id": "f3242caf-941c-433a-a3c1-b9500ff5024a",
   "metadata": {},
   "outputs": [
    {
     "data": {
      "text/plain": [
       "{'code': 'more', 'more': 'code', 'sleep': 'less', 'less': 'sleep'}"
      ]
     },
     "execution_count": 8,
     "metadata": {},
     "output_type": "execute_result"
    }
   ],
   "source": [
    "bd"
   ]
  },
  {
   "cell_type": "code",
   "execution_count": 9,
   "id": "3100650b-c11e-46db-a8bd-3ad5c798f3ee",
   "metadata": {},
   "outputs": [
    {
     "data": {
      "text/plain": [
       "'code'"
      ]
     },
     "execution_count": 9,
     "metadata": {},
     "output_type": "execute_result"
    }
   ],
   "source": [
    "bd[\"code\"] = \"better\"\n",
    "bd[\"better\"]"
   ]
  },
  {
   "cell_type": "code",
   "execution_count": 10,
   "id": "80155a81-7193-4d42-b907-4a437eb5359f",
   "metadata": {},
   "outputs": [
    {
     "data": {
      "text/plain": [
       "{'sleep': 'less', 'less': 'sleep', 'code': 'better', 'better': 'code'}"
      ]
     },
     "execution_count": 10,
     "metadata": {},
     "output_type": "execute_result"
    }
   ],
   "source": [
    "bd"
   ]
  },
  {
   "cell_type": "code",
   "execution_count": 11,
   "id": "54d40584-a427-469d-aec1-2082dcf3abbd",
   "metadata": {},
   "outputs": [
    {
     "data": {
      "text/plain": [
       "2"
      ]
     },
     "execution_count": 11,
     "metadata": {},
     "output_type": "execute_result"
    }
   ],
   "source": [
    "len(bd)"
   ]
  },
  {
   "cell_type": "code",
   "execution_count": 12,
   "id": "15aed952-eb43-4c02-906e-bf9978c35fc5",
   "metadata": {},
   "outputs": [
    {
     "data": {
      "text/plain": [
       "{'code': 'better', 'better': 'code', 'sleep': 'deeper', 'deeper': 'sleep'}"
      ]
     },
     "execution_count": 12,
     "metadata": {},
     "output_type": "execute_result"
    }
   ],
   "source": [
    "bd.update([(\"sleep\", \"deeper\")])\n",
    "bd"
   ]
  },
  {
   "cell_type": "code",
   "execution_count": 13,
   "id": "5ad4d313-5b98-48c5-818c-02f87263a070",
   "metadata": {},
   "outputs": [
    {
     "data": {
      "text/plain": [
       "'deeper'"
      ]
     },
     "execution_count": 13,
     "metadata": {},
     "output_type": "execute_result"
    }
   ],
   "source": [
    "bd.pop(\"sleep\")"
   ]
  },
  {
   "cell_type": "code",
   "execution_count": 14,
   "id": "2ab6f411-ab7f-4a5f-8c78-6aa569ddad91",
   "metadata": {},
   "outputs": [
    {
     "data": {
      "text/plain": [
       "{'code': 'better', 'better': 'code'}"
      ]
     },
     "execution_count": 14,
     "metadata": {},
     "output_type": "execute_result"
    }
   ],
   "source": [
    "bd"
   ]
  },
  {
   "cell_type": "code",
   "execution_count": 15,
   "id": "c317b2c3-f9f9-488a-ad15-fee0b0df98e1",
   "metadata": {},
   "outputs": [
    {
     "data": {
      "text/plain": [
       "{}"
      ]
     },
     "execution_count": 15,
     "metadata": {},
     "output_type": "execute_result"
    }
   ],
   "source": [
    "del bd['code']\n",
    "bd"
   ]
  }
 ],
 "metadata": {
  "kernelspec": {
   "display_name": "Python [conda env:MLenv]",
   "language": "python",
   "name": "conda-env-MLenv-py"
  },
  "language_info": {
   "codemirror_mode": {
    "name": "ipython",
    "version": 3
   },
   "file_extension": ".py",
   "mimetype": "text/x-python",
   "name": "python",
   "nbconvert_exporter": "python",
   "pygments_lexer": "ipython3",
   "version": "3.9.21"
  }
 },
 "nbformat": 4,
 "nbformat_minor": 5
}
